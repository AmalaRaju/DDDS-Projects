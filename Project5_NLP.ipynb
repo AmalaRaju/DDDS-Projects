{
  "cells": [
    {
      "cell_type": "markdown",
      "metadata": {
        "id": "view-in-github",
        "colab_type": "text"
      },
      "source": [
        "<a href=\"https://colab.research.google.com/github/AmalaRaju/DDDS-Projects/blob/main/Project5_NLP.ipynb\" target=\"_parent\"><img src=\"https://colab.research.google.com/assets/colab-badge.svg\" alt=\"Open In Colab\"/></a>"
      ]
    },
    {
      "cell_type": "markdown",
      "metadata": {
        "id": "CxYSWPCsM0YU"
      },
      "source": [
        "# Natural Language Processing\n",
        "\n"
      ]
    },
    {
      "cell_type": "markdown",
      "metadata": {
        "id": "FGQCPUEuNezI"
      },
      "source": [
        "This project will give you practical experience using Natural Language Processing techniques. This project is in three parts:\n",
        "- in part 1) you will use a dataset in a CSV file\n",
        "- in part 2) you will use the Wikipedia API to directly access content\n",
        "on Wikipedia.\n",
        "- in part 3) you will make your notebook interactive\n"
      ]
    },
    {
      "cell_type": "markdown",
      "metadata": {
        "id": "IP5iaS9lNamW"
      },
      "source": [
        "### Part 1)\n",
        "\n"
      ]
    },
    {
      "cell_type": "markdown",
      "metadata": {
        "id": "twaXGmp6OAPK"
      },
      "source": [
        "- The CSV file is available at https://ddc-datascience.s3.amazonaws.com/Projects/Project.5-NLP/Data/NLP.csv\n",
        "- The file contains a list of famous people and a brief overview.\n",
        "- The goal of part 1) is to ...\n",
        "  1. Pick one person from the list ( the target person ) and output 10 other people who's overview are \"closest\" to the target person in a Natural Language Processing sense\n",
        "  1. Also output the sentiment of the overview of the target person\n",
        "\n"
      ]
    },
    {
      "cell_type": "code",
      "source": [
        "import numpy as np\n",
        "import pandas as pd\n",
        "import matplotlib.pyplot as plt\n",
        "import re\n",
        "from textblob import TextBlob\n",
        "from sklearn.feature_extraction.text import CountVectorizer\n",
        "from sklearn.feature_extraction.text import TfidfTransformer\n",
        "from sklearn.feature_extraction.text import TfidfVectorizer\n",
        "from sklearn.metrics.pairwise import cosine_similarity\n",
        "from sklearn.neighbors import NearestNeighbors\n",
        "import ipywidgets as widgets\n",
        "from IPython.display import display, clear_output\n",
        "pd.options.display.max_columns = 100"
      ],
      "metadata": {
        "id": "aixPZ2yCWYr4"
      },
      "execution_count": 24,
      "outputs": []
    },
    {
      "cell_type": "code",
      "source": [
        "df=pd.read_csv('https://ddc-datascience.s3.amazonaws.com/Projects/Project.5-NLP/Data/NLP.csv')"
      ],
      "metadata": {
        "id": "uAnqdmVqWofY"
      },
      "execution_count": 25,
      "outputs": []
    },
    {
      "cell_type": "code",
      "source": [
        "df.head()"
      ],
      "metadata": {
        "colab": {
          "base_uri": "https://localhost:8080/",
          "height": 206
        },
        "id": "vtOOoSLlWquP",
        "outputId": "c40b451b-5449-4ea5-8e35-04f73ec95aac"
      },
      "execution_count": 26,
      "outputs": [
        {
          "output_type": "execute_result",
          "data": {
            "text/plain": [
              "                                                 URI                 name  \\\n",
              "0        <http://dbpedia.org/resource/Digby_Morrell>        Digby Morrell   \n",
              "1       <http://dbpedia.org/resource/Alfred_J._Lewy>       Alfred J. Lewy   \n",
              "2        <http://dbpedia.org/resource/Harpdog_Brown>        Harpdog Brown   \n",
              "3  <http://dbpedia.org/resource/Franz_Rottensteiner>  Franz Rottensteiner   \n",
              "4               <http://dbpedia.org/resource/G-Enka>               G-Enka   \n",
              "\n",
              "                                                text  \n",
              "0  digby morrell born 10 october 1979 is a former...  \n",
              "1  alfred j lewy aka sandy lewy graduated from un...  \n",
              "2  harpdog brown is a singer and harmonica player...  \n",
              "3  franz rottensteiner born in waidmannsfeld lowe...  \n",
              "4  henry krvits born 30 december 1974 in tallinn ...  "
            ],
            "text/html": [
              "\n",
              "  <div id=\"df-d59e9ef5-0736-4e60-816b-cac938badf05\" class=\"colab-df-container\">\n",
              "    <div>\n",
              "<style scoped>\n",
              "    .dataframe tbody tr th:only-of-type {\n",
              "        vertical-align: middle;\n",
              "    }\n",
              "\n",
              "    .dataframe tbody tr th {\n",
              "        vertical-align: top;\n",
              "    }\n",
              "\n",
              "    .dataframe thead th {\n",
              "        text-align: right;\n",
              "    }\n",
              "</style>\n",
              "<table border=\"1\" class=\"dataframe\">\n",
              "  <thead>\n",
              "    <tr style=\"text-align: right;\">\n",
              "      <th></th>\n",
              "      <th>URI</th>\n",
              "      <th>name</th>\n",
              "      <th>text</th>\n",
              "    </tr>\n",
              "  </thead>\n",
              "  <tbody>\n",
              "    <tr>\n",
              "      <th>0</th>\n",
              "      <td>&lt;http://dbpedia.org/resource/Digby_Morrell&gt;</td>\n",
              "      <td>Digby Morrell</td>\n",
              "      <td>digby morrell born 10 october 1979 is a former...</td>\n",
              "    </tr>\n",
              "    <tr>\n",
              "      <th>1</th>\n",
              "      <td>&lt;http://dbpedia.org/resource/Alfred_J._Lewy&gt;</td>\n",
              "      <td>Alfred J. Lewy</td>\n",
              "      <td>alfred j lewy aka sandy lewy graduated from un...</td>\n",
              "    </tr>\n",
              "    <tr>\n",
              "      <th>2</th>\n",
              "      <td>&lt;http://dbpedia.org/resource/Harpdog_Brown&gt;</td>\n",
              "      <td>Harpdog Brown</td>\n",
              "      <td>harpdog brown is a singer and harmonica player...</td>\n",
              "    </tr>\n",
              "    <tr>\n",
              "      <th>3</th>\n",
              "      <td>&lt;http://dbpedia.org/resource/Franz_Rottensteiner&gt;</td>\n",
              "      <td>Franz Rottensteiner</td>\n",
              "      <td>franz rottensteiner born in waidmannsfeld lowe...</td>\n",
              "    </tr>\n",
              "    <tr>\n",
              "      <th>4</th>\n",
              "      <td>&lt;http://dbpedia.org/resource/G-Enka&gt;</td>\n",
              "      <td>G-Enka</td>\n",
              "      <td>henry krvits born 30 december 1974 in tallinn ...</td>\n",
              "    </tr>\n",
              "  </tbody>\n",
              "</table>\n",
              "</div>\n",
              "    <div class=\"colab-df-buttons\">\n",
              "\n",
              "  <div class=\"colab-df-container\">\n",
              "    <button class=\"colab-df-convert\" onclick=\"convertToInteractive('df-d59e9ef5-0736-4e60-816b-cac938badf05')\"\n",
              "            title=\"Convert this dataframe to an interactive table.\"\n",
              "            style=\"display:none;\">\n",
              "\n",
              "  <svg xmlns=\"http://www.w3.org/2000/svg\" height=\"24px\" viewBox=\"0 -960 960 960\">\n",
              "    <path d=\"M120-120v-720h720v720H120Zm60-500h600v-160H180v160Zm220 220h160v-160H400v160Zm0 220h160v-160H400v160ZM180-400h160v-160H180v160Zm440 0h160v-160H620v160ZM180-180h160v-160H180v160Zm440 0h160v-160H620v160Z\"/>\n",
              "  </svg>\n",
              "    </button>\n",
              "\n",
              "  <style>\n",
              "    .colab-df-container {\n",
              "      display:flex;\n",
              "      gap: 12px;\n",
              "    }\n",
              "\n",
              "    .colab-df-convert {\n",
              "      background-color: #E8F0FE;\n",
              "      border: none;\n",
              "      border-radius: 50%;\n",
              "      cursor: pointer;\n",
              "      display: none;\n",
              "      fill: #1967D2;\n",
              "      height: 32px;\n",
              "      padding: 0 0 0 0;\n",
              "      width: 32px;\n",
              "    }\n",
              "\n",
              "    .colab-df-convert:hover {\n",
              "      background-color: #E2EBFA;\n",
              "      box-shadow: 0px 1px 2px rgba(60, 64, 67, 0.3), 0px 1px 3px 1px rgba(60, 64, 67, 0.15);\n",
              "      fill: #174EA6;\n",
              "    }\n",
              "\n",
              "    .colab-df-buttons div {\n",
              "      margin-bottom: 4px;\n",
              "    }\n",
              "\n",
              "    [theme=dark] .colab-df-convert {\n",
              "      background-color: #3B4455;\n",
              "      fill: #D2E3FC;\n",
              "    }\n",
              "\n",
              "    [theme=dark] .colab-df-convert:hover {\n",
              "      background-color: #434B5C;\n",
              "      box-shadow: 0px 1px 3px 1px rgba(0, 0, 0, 0.15);\n",
              "      filter: drop-shadow(0px 1px 2px rgba(0, 0, 0, 0.3));\n",
              "      fill: #FFFFFF;\n",
              "    }\n",
              "  </style>\n",
              "\n",
              "    <script>\n",
              "      const buttonEl =\n",
              "        document.querySelector('#df-d59e9ef5-0736-4e60-816b-cac938badf05 button.colab-df-convert');\n",
              "      buttonEl.style.display =\n",
              "        google.colab.kernel.accessAllowed ? 'block' : 'none';\n",
              "\n",
              "      async function convertToInteractive(key) {\n",
              "        const element = document.querySelector('#df-d59e9ef5-0736-4e60-816b-cac938badf05');\n",
              "        const dataTable =\n",
              "          await google.colab.kernel.invokeFunction('convertToInteractive',\n",
              "                                                    [key], {});\n",
              "        if (!dataTable) return;\n",
              "\n",
              "        const docLinkHtml = 'Like what you see? Visit the ' +\n",
              "          '<a target=\"_blank\" href=https://colab.research.google.com/notebooks/data_table.ipynb>data table notebook</a>'\n",
              "          + ' to learn more about interactive tables.';\n",
              "        element.innerHTML = '';\n",
              "        dataTable['output_type'] = 'display_data';\n",
              "        await google.colab.output.renderOutput(dataTable, element);\n",
              "        const docLink = document.createElement('div');\n",
              "        docLink.innerHTML = docLinkHtml;\n",
              "        element.appendChild(docLink);\n",
              "      }\n",
              "    </script>\n",
              "  </div>\n",
              "\n",
              "\n",
              "    <div id=\"df-af1ed54b-d9dd-4499-8423-7eec4bef7496\">\n",
              "      <button class=\"colab-df-quickchart\" onclick=\"quickchart('df-af1ed54b-d9dd-4499-8423-7eec4bef7496')\"\n",
              "                title=\"Suggest charts\"\n",
              "                style=\"display:none;\">\n",
              "\n",
              "<svg xmlns=\"http://www.w3.org/2000/svg\" height=\"24px\"viewBox=\"0 0 24 24\"\n",
              "     width=\"24px\">\n",
              "    <g>\n",
              "        <path d=\"M19 3H5c-1.1 0-2 .9-2 2v14c0 1.1.9 2 2 2h14c1.1 0 2-.9 2-2V5c0-1.1-.9-2-2-2zM9 17H7v-7h2v7zm4 0h-2V7h2v10zm4 0h-2v-4h2v4z\"/>\n",
              "    </g>\n",
              "</svg>\n",
              "      </button>\n",
              "\n",
              "<style>\n",
              "  .colab-df-quickchart {\n",
              "      --bg-color: #E8F0FE;\n",
              "      --fill-color: #1967D2;\n",
              "      --hover-bg-color: #E2EBFA;\n",
              "      --hover-fill-color: #174EA6;\n",
              "      --disabled-fill-color: #AAA;\n",
              "      --disabled-bg-color: #DDD;\n",
              "  }\n",
              "\n",
              "  [theme=dark] .colab-df-quickchart {\n",
              "      --bg-color: #3B4455;\n",
              "      --fill-color: #D2E3FC;\n",
              "      --hover-bg-color: #434B5C;\n",
              "      --hover-fill-color: #FFFFFF;\n",
              "      --disabled-bg-color: #3B4455;\n",
              "      --disabled-fill-color: #666;\n",
              "  }\n",
              "\n",
              "  .colab-df-quickchart {\n",
              "    background-color: var(--bg-color);\n",
              "    border: none;\n",
              "    border-radius: 50%;\n",
              "    cursor: pointer;\n",
              "    display: none;\n",
              "    fill: var(--fill-color);\n",
              "    height: 32px;\n",
              "    padding: 0;\n",
              "    width: 32px;\n",
              "  }\n",
              "\n",
              "  .colab-df-quickchart:hover {\n",
              "    background-color: var(--hover-bg-color);\n",
              "    box-shadow: 0 1px 2px rgba(60, 64, 67, 0.3), 0 1px 3px 1px rgba(60, 64, 67, 0.15);\n",
              "    fill: var(--button-hover-fill-color);\n",
              "  }\n",
              "\n",
              "  .colab-df-quickchart-complete:disabled,\n",
              "  .colab-df-quickchart-complete:disabled:hover {\n",
              "    background-color: var(--disabled-bg-color);\n",
              "    fill: var(--disabled-fill-color);\n",
              "    box-shadow: none;\n",
              "  }\n",
              "\n",
              "  .colab-df-spinner {\n",
              "    border: 2px solid var(--fill-color);\n",
              "    border-color: transparent;\n",
              "    border-bottom-color: var(--fill-color);\n",
              "    animation:\n",
              "      spin 1s steps(1) infinite;\n",
              "  }\n",
              "\n",
              "  @keyframes spin {\n",
              "    0% {\n",
              "      border-color: transparent;\n",
              "      border-bottom-color: var(--fill-color);\n",
              "      border-left-color: var(--fill-color);\n",
              "    }\n",
              "    20% {\n",
              "      border-color: transparent;\n",
              "      border-left-color: var(--fill-color);\n",
              "      border-top-color: var(--fill-color);\n",
              "    }\n",
              "    30% {\n",
              "      border-color: transparent;\n",
              "      border-left-color: var(--fill-color);\n",
              "      border-top-color: var(--fill-color);\n",
              "      border-right-color: var(--fill-color);\n",
              "    }\n",
              "    40% {\n",
              "      border-color: transparent;\n",
              "      border-right-color: var(--fill-color);\n",
              "      border-top-color: var(--fill-color);\n",
              "    }\n",
              "    60% {\n",
              "      border-color: transparent;\n",
              "      border-right-color: var(--fill-color);\n",
              "    }\n",
              "    80% {\n",
              "      border-color: transparent;\n",
              "      border-right-color: var(--fill-color);\n",
              "      border-bottom-color: var(--fill-color);\n",
              "    }\n",
              "    90% {\n",
              "      border-color: transparent;\n",
              "      border-bottom-color: var(--fill-color);\n",
              "    }\n",
              "  }\n",
              "</style>\n",
              "\n",
              "      <script>\n",
              "        async function quickchart(key) {\n",
              "          const quickchartButtonEl =\n",
              "            document.querySelector('#' + key + ' button');\n",
              "          quickchartButtonEl.disabled = true;  // To prevent multiple clicks.\n",
              "          quickchartButtonEl.classList.add('colab-df-spinner');\n",
              "          try {\n",
              "            const charts = await google.colab.kernel.invokeFunction(\n",
              "                'suggestCharts', [key], {});\n",
              "          } catch (error) {\n",
              "            console.error('Error during call to suggestCharts:', error);\n",
              "          }\n",
              "          quickchartButtonEl.classList.remove('colab-df-spinner');\n",
              "          quickchartButtonEl.classList.add('colab-df-quickchart-complete');\n",
              "        }\n",
              "        (() => {\n",
              "          let quickchartButtonEl =\n",
              "            document.querySelector('#df-af1ed54b-d9dd-4499-8423-7eec4bef7496 button');\n",
              "          quickchartButtonEl.style.display =\n",
              "            google.colab.kernel.accessAllowed ? 'block' : 'none';\n",
              "        })();\n",
              "      </script>\n",
              "    </div>\n",
              "\n",
              "    </div>\n",
              "  </div>\n"
            ],
            "application/vnd.google.colaboratory.intrinsic+json": {
              "type": "dataframe",
              "variable_name": "df",
              "summary": "{\n  \"name\": \"df\",\n  \"rows\": 42786,\n  \"fields\": [\n    {\n      \"column\": \"URI\",\n      \"properties\": {\n        \"dtype\": \"string\",\n        \"num_unique_values\": 42786,\n        \"samples\": [\n          \"<http://dbpedia.org/resource/Tom_Bancroft>\",\n          \"<http://dbpedia.org/resource/Bart_Zeller>\",\n          \"<http://dbpedia.org/resource/Caitlin_Morrall>\"\n        ],\n        \"semantic_type\": \"\",\n        \"description\": \"\"\n      }\n    },\n    {\n      \"column\": \"name\",\n      \"properties\": {\n        \"dtype\": \"string\",\n        \"num_unique_values\": 42785,\n        \"samples\": [\n          \"Tom Bancroft\",\n          \"James Holt (scholar)\",\n          \"Chen Tze-chung\"\n        ],\n        \"semantic_type\": \"\",\n        \"description\": \"\"\n      }\n    },\n    {\n      \"column\": \"text\",\n      \"properties\": {\n        \"dtype\": \"string\",\n        \"num_unique_values\": 42786,\n        \"samples\": [\n          \"tom bancroft born 1967 london is a british jazz drummer and composer he began drumming aged seven and started off playing jazz with his father and identical twin brother phil after studying medicine at cambridge university he spent a year studying composition and arranging at mcgill university in montreal canada qualifying as a doctor in 1992 he then worked as a jazz musician and composer supporting his music income with locum work as a hospital doctor until 1998 when he began starting music related companies he is married to singer gina rae and has two children sam and sophie in 2004 he received the creative scotland awardin 1998 he launched caber music with support from the national lottery fund which went on to release over thirty cds over the next seven years to critical acclaim including two bbc jazz awards for best cd and numerous album of the year placings he has subsequently started the company abc creative music with his twin brother phil bancroft which develops creative music education resources which are now being used in more than 500 schools in scotlandas a drummer he has studied with jo morello joey baron and andrew cyrille and played with many musicians including sun ra joakim milder charlie mariano hamiett bluiett liane carroll oliver lake george colligan david berkman tommy smith julian argelles emil vicklicky martin taylor sheila jordan shooglenifty karen mathieson reid anderson billy jenkins bill wells geri allen mr mcfalls chamber and martyn bennetthe is currently the drummer with the dave milligan trio the chick lyall trio and kevin mackenzies vital signs the laura macdonald quartet and octet and plays in an improvising duo with the italian guitarist enzo roccohe is drummer and coleader of trio aab whose first album cold fusion was named an album of 1999 by bbc radio 3 and whose second album wherever i lay my home thats my hat was an album of 2001 in the guardian and picked in a list of 100 essential all time jazz albums by mojo magazine in 2001 they also released stranger things happen at c in 2002 reactivated in 2011 trio aab performed at the delhi jazz festivalas a band leader and composer he has led orchestro interrupto formerly the tom bancroft orchestra a contemporary jazz big band producing the album pieology in 1998 many festival performances a uk tour and a live concert broadcast on bbc radio 3 in 2004 the band toured the uk with geri allen and the tour was broadcast on bbc radio 3 and received five star reviews in the guardian and the scotsman and was voted jazz gig of the year in manchesters city limits and londons time out magazines orchestri interrupto released a cd in 2009 of the music from the geri allen tour with chick lyall on piano entitled the ballad of linda crawford bancroft has also composed for smaller groups including the orange ear ensemble octet and kilt couture a collaboration with french group arfi in 2006 he launched the new tom bancroft 6 pack as well as a spinoff childrens focussed band from the orchestra called kidsamonium which premiered at the gateshead international jazz festival at the sage gateshead and also at the cheltenham jazz festival in 2006 and went on to perform all over europebancrofts compositions have been used in radio film dance television and theatre he has been commissioned by bbc scotland bbc radio 3 glasgow international jazz festival assembly direct birmingham jazz and the national youth jazz orchestra of scotland he has danced in played and composed music for life on the planets surface with kelsey michael and a case for a picnic pt2 tracing houdini and hoops hats acrobats with the choreographer ruby worthhe has led many large scale community and education projects including 150 primary school children performing at the london jazz festival 200 at perth concert hall with classical percussionist colin currie and 100 parents grandparents and children playing drums and percussion at the big stix project at the gateshead jazz festivalbancroft is an active teacher and educator from private drum students to teaching composition and leading big bands he is an apple distinguished educator he has always been active in setting up new ways to promote jazz and improvisation he curated a series of mini festivals for uk and european musicians inside the glasgow jazz festival in the 1990s called clandemonium and europhonium he was active in setting up the scottish jazz federationin 2010 he was musical director of major dance show off kilter which played in major venues across scotland toured scotland with the dave milligan trio and premiered the band of eden malefemale big band to critical acclaimin late 2010 in his role at abc creative music bancroft launched the website abc creative music online to allow scottish schools to teach creative music by smartboard\",\n          \"barton wallace zeller born july 22 1941 is a former professional baseball catcher he played one game in major league baseball in 1970 for the st louis cardinals he recently served as manager of the joliet slammers of the frontier league but was released on september 10 2012zeller was signed by the cardinals in 1963 and spent four years in the cardinals farm system after missing the 1967 season he spent 1968 and 1969 with the lewiston broncs and arkansas travelers respectively zeller played in his only major league game on may 21 1970 against the philadelphia phillies he was inserted to catch the bottom of the ninth inning zeller never had a plate appearance but was credited with one put out on billy mccools strikeout of jim hutto zeller batted and threw righthanded his jersey number was 29 at the time of play he was 6 ft 1 in tall and weighed 185 lbzeller was released as an active player by the cardinals on june 8 but stayed on as a coach for the balance of the 1970 season he played in the minors in 1971 in the milwaukee brewers and new york yankees organizationszeller was the hitting coachthird base coach for the southern illinois miners of the frontier league an independent baseball league zeller began working for the miners in their inaugural 2007 season before coming to the miners zeller spent two seasons with the sioux falls canaries as a bench coach zeller was named as the first manager of slammers in january 2011zeller is currently managing the washington wild things of the frontier league\",\n          \"caitlin shea morrall machol born may 2 1983 is a beauty queen from burlington wisconsin who competed in the 2008 miss usa pageantmorrall who had previously competed in the miss wisconsin america system won the miss wisconsin usa 2007 title in the state pageant held at richland center on 2 september 2006 she competed in the nationally televised miss usa 2007 pageant which was broadcast live from the kodak theatre in hollywood california on march 23 2007 where she placed in top 15 this was the best finish by a contestant from wisconsin in 28 yearsin june 2006 morrall placed first runnerup in the miss wisconsin competition where she competed as miss burlington area chocolatefest she had previously placed 3rd runnerup in 2004 1st runnerup in 2003 and 2nd runnerup in 2002 morrall has held other local titles such as miss racine in 2002 miss milwaukee in 2003 and miss southern wisconsin in 2004 despite being eligible to compete in the miss america system for one more year morrall made the decision to compete in the miss wisconsin usa pageant one week before applications for the pageant closedmorrall is a 2001 graduate of burlington high school wisconsin and is a 2008 graduate of alverno college in milwaukee with a bachelor of arts degree in professional communicationcaitlin is currently the traffic reporter in the morning for wtmjtv 4\"\n        ],\n        \"semantic_type\": \"\",\n        \"description\": \"\"\n      }\n    }\n  ]\n}"
            }
          },
          "metadata": {},
          "execution_count": 26
        }
      ]
    },
    {
      "cell_type": "code",
      "source": [
        "df.shape"
      ],
      "metadata": {
        "colab": {
          "base_uri": "https://localhost:8080/"
        },
        "id": "8vLNwkRuWtSJ",
        "outputId": "862d0321-96c4-4c82-be47-8cc95c99f4c8"
      },
      "execution_count": 27,
      "outputs": [
        {
          "output_type": "execute_result",
          "data": {
            "text/plain": [
              "(42786, 3)"
            ]
          },
          "metadata": {},
          "execution_count": 27
        }
      ]
    },
    {
      "cell_type": "code",
      "source": [
        "df.info()"
      ],
      "metadata": {
        "colab": {
          "base_uri": "https://localhost:8080/"
        },
        "id": "hSji1-anWvrj",
        "outputId": "6c7a6d56-edc7-4b1f-be38-810d816ce474"
      },
      "execution_count": 28,
      "outputs": [
        {
          "output_type": "stream",
          "name": "stdout",
          "text": [
            "<class 'pandas.core.frame.DataFrame'>\n",
            "RangeIndex: 42786 entries, 0 to 42785\n",
            "Data columns (total 3 columns):\n",
            " #   Column  Non-Null Count  Dtype \n",
            "---  ------  --------------  ----- \n",
            " 0   URI     42786 non-null  object\n",
            " 1   name    42786 non-null  object\n",
            " 2   text    42786 non-null  object\n",
            "dtypes: object(3)\n",
            "memory usage: 1002.9+ KB\n"
          ]
        }
      ]
    },
    {
      "cell_type": "code",
      "source": [
        "df['name'].unique()"
      ],
      "metadata": {
        "colab": {
          "base_uri": "https://localhost:8080/"
        },
        "id": "y4PDw9NNGnEH",
        "outputId": "ea1d7158-2139-4449-bab4-a30b80c9341a"
      },
      "execution_count": 29,
      "outputs": [
        {
          "output_type": "execute_result",
          "data": {
            "text/plain": [
              "array(['Digby Morrell', 'Alfred J. Lewy', 'Harpdog Brown', ...,\n",
              "       'Eduardo Lara', 'Tatiana Faberg%C3%A9', 'Kenneth Thomas'],\n",
              "      dtype=object)"
            ]
          },
          "metadata": {},
          "execution_count": 29
        }
      ]
    },
    {
      "cell_type": "code",
      "source": [
        "# Fetching rows with '%' in 'name' column\n",
        "filtered_df = df[df['name'].str.contains('%', na=False)]\n",
        "print(filtered_df)"
      ],
      "metadata": {
        "colab": {
          "base_uri": "https://localhost:8080/"
        },
        "id": "vcqWc1K0G5rX",
        "outputId": "a51b7bb1-3a20-43d2-e40c-5efe8f4c27d2"
      },
      "execution_count": 30,
      "outputs": [
        {
          "output_type": "stream",
          "name": "stdout",
          "text": [
            "                                                     URI  \\\n",
            "35     <http://dbpedia.org/resource/Freimut_B%C3%B6rn...   \n",
            "36     <http://dbpedia.org/resource/Th%C3%BCring_Br%C...   \n",
            "73     <http://dbpedia.org/resource/Marcel_J._Melan%C...   \n",
            "85     <http://dbpedia.org/resource/Zvonimir_Juri%C4%87>   \n",
            "122    <http://dbpedia.org/resource/Se%C3%A1n_%C3%93g...   \n",
            "...                                                  ...   \n",
            "42724   <http://dbpedia.org/resource/Jos%C3%A9_Higueras>   \n",
            "42732  <http://dbpedia.org/resource/Ole_Gunnar_Solskj...   \n",
            "42733  <http://dbpedia.org/resource/Gerd_Gr%C3%B8nvol...   \n",
            "42746  <http://dbpedia.org/resource/Floria_M%C3%A1rquez>   \n",
            "42784  <http://dbpedia.org/resource/Tatiana_Faberg%C3...   \n",
            "\n",
            "                                        name  \\\n",
            "35                      Freimut B%C3%B6rngen   \n",
            "36                    Th%C3%BCring Br%C3%A4m   \n",
            "73                   Marcel J. Melan%C3%A7on   \n",
            "85                       Zvonimir Juri%C4%87   \n",
            "122    Se%C3%A1n %C3%93g %C3%93 hAilp%C3%ADn   \n",
            "...                                      ...   \n",
            "42724                     Jos%C3%A9 Higueras   \n",
            "42732               Ole Gunnar Solskj%C3%A6r   \n",
            "42733                Gerd Gr%C3%B8nvold Saue   \n",
            "42746                    Floria M%C3%A1rquez   \n",
            "42784                   Tatiana Faberg%C3%A9   \n",
            "\n",
            "                                                    text  \n",
            "35     freimut brngen born october 17 1930 is a germa...  \n",
            "36     thring brm born 10 april 1944 is a swiss compo...  \n",
            "73     marcel j mlanon is a philosopher and scientist...  \n",
            "85     zvonimir juri born 4 june 1971 is a croatian f...  \n",
            "122    sen g hailpn born 22 may 1977 is a fijianirish...  \n",
            "...                                                  ...  \n",
            "42724  jos higueras born february 28 1953 in diezma a...  \n",
            "42732  ole gunnar solskjr born 26 february 1973 is a ...  \n",
            "42733  gerd grnvold saue born 20 january 1930 is a no...  \n",
            "42746  floria mrquez b february 11 1950 in caracas is...  \n",
            "42784  tatiana faberg is an author and faberg scholar...  \n",
            "\n",
            "[2485 rows x 3 columns]\n"
          ]
        }
      ]
    },
    {
      "cell_type": "markdown",
      "source": [
        "Let's clean the name column since some of it contains some unwanted charaters."
      ],
      "metadata": {
        "id": "-t1TsWTcGsHA"
      }
    },
    {
      "cell_type": "code",
      "source": [
        "# Making a copy of 'original_column'\n",
        "df['copied_name'] = df['name'].copy()"
      ],
      "metadata": {
        "id": "Lshl0fXBHPBl"
      },
      "execution_count": 31,
      "outputs": []
    },
    {
      "cell_type": "code",
      "source": [
        "df.head()"
      ],
      "metadata": {
        "colab": {
          "base_uri": "https://localhost:8080/",
          "height": 293
        },
        "id": "NnmRtWoQHUus",
        "outputId": "e5cc22c5-1d64-4903-9573-0d61c9e24fa4"
      },
      "execution_count": 32,
      "outputs": [
        {
          "output_type": "execute_result",
          "data": {
            "text/plain": [
              "                                                 URI                 name  \\\n",
              "0        <http://dbpedia.org/resource/Digby_Morrell>        Digby Morrell   \n",
              "1       <http://dbpedia.org/resource/Alfred_J._Lewy>       Alfred J. Lewy   \n",
              "2        <http://dbpedia.org/resource/Harpdog_Brown>        Harpdog Brown   \n",
              "3  <http://dbpedia.org/resource/Franz_Rottensteiner>  Franz Rottensteiner   \n",
              "4               <http://dbpedia.org/resource/G-Enka>               G-Enka   \n",
              "\n",
              "                                                text          copied_name  \n",
              "0  digby morrell born 10 october 1979 is a former...        Digby Morrell  \n",
              "1  alfred j lewy aka sandy lewy graduated from un...       Alfred J. Lewy  \n",
              "2  harpdog brown is a singer and harmonica player...        Harpdog Brown  \n",
              "3  franz rottensteiner born in waidmannsfeld lowe...  Franz Rottensteiner  \n",
              "4  henry krvits born 30 december 1974 in tallinn ...               G-Enka  "
            ],
            "text/html": [
              "\n",
              "  <div id=\"df-40d91d7f-0409-444c-a96d-a09010b92c0c\" class=\"colab-df-container\">\n",
              "    <div>\n",
              "<style scoped>\n",
              "    .dataframe tbody tr th:only-of-type {\n",
              "        vertical-align: middle;\n",
              "    }\n",
              "\n",
              "    .dataframe tbody tr th {\n",
              "        vertical-align: top;\n",
              "    }\n",
              "\n",
              "    .dataframe thead th {\n",
              "        text-align: right;\n",
              "    }\n",
              "</style>\n",
              "<table border=\"1\" class=\"dataframe\">\n",
              "  <thead>\n",
              "    <tr style=\"text-align: right;\">\n",
              "      <th></th>\n",
              "      <th>URI</th>\n",
              "      <th>name</th>\n",
              "      <th>text</th>\n",
              "      <th>copied_name</th>\n",
              "    </tr>\n",
              "  </thead>\n",
              "  <tbody>\n",
              "    <tr>\n",
              "      <th>0</th>\n",
              "      <td>&lt;http://dbpedia.org/resource/Digby_Morrell&gt;</td>\n",
              "      <td>Digby Morrell</td>\n",
              "      <td>digby morrell born 10 october 1979 is a former...</td>\n",
              "      <td>Digby Morrell</td>\n",
              "    </tr>\n",
              "    <tr>\n",
              "      <th>1</th>\n",
              "      <td>&lt;http://dbpedia.org/resource/Alfred_J._Lewy&gt;</td>\n",
              "      <td>Alfred J. Lewy</td>\n",
              "      <td>alfred j lewy aka sandy lewy graduated from un...</td>\n",
              "      <td>Alfred J. Lewy</td>\n",
              "    </tr>\n",
              "    <tr>\n",
              "      <th>2</th>\n",
              "      <td>&lt;http://dbpedia.org/resource/Harpdog_Brown&gt;</td>\n",
              "      <td>Harpdog Brown</td>\n",
              "      <td>harpdog brown is a singer and harmonica player...</td>\n",
              "      <td>Harpdog Brown</td>\n",
              "    </tr>\n",
              "    <tr>\n",
              "      <th>3</th>\n",
              "      <td>&lt;http://dbpedia.org/resource/Franz_Rottensteiner&gt;</td>\n",
              "      <td>Franz Rottensteiner</td>\n",
              "      <td>franz rottensteiner born in waidmannsfeld lowe...</td>\n",
              "      <td>Franz Rottensteiner</td>\n",
              "    </tr>\n",
              "    <tr>\n",
              "      <th>4</th>\n",
              "      <td>&lt;http://dbpedia.org/resource/G-Enka&gt;</td>\n",
              "      <td>G-Enka</td>\n",
              "      <td>henry krvits born 30 december 1974 in tallinn ...</td>\n",
              "      <td>G-Enka</td>\n",
              "    </tr>\n",
              "  </tbody>\n",
              "</table>\n",
              "</div>\n",
              "    <div class=\"colab-df-buttons\">\n",
              "\n",
              "  <div class=\"colab-df-container\">\n",
              "    <button class=\"colab-df-convert\" onclick=\"convertToInteractive('df-40d91d7f-0409-444c-a96d-a09010b92c0c')\"\n",
              "            title=\"Convert this dataframe to an interactive table.\"\n",
              "            style=\"display:none;\">\n",
              "\n",
              "  <svg xmlns=\"http://www.w3.org/2000/svg\" height=\"24px\" viewBox=\"0 -960 960 960\">\n",
              "    <path d=\"M120-120v-720h720v720H120Zm60-500h600v-160H180v160Zm220 220h160v-160H400v160Zm0 220h160v-160H400v160ZM180-400h160v-160H180v160Zm440 0h160v-160H620v160ZM180-180h160v-160H180v160Zm440 0h160v-160H620v160Z\"/>\n",
              "  </svg>\n",
              "    </button>\n",
              "\n",
              "  <style>\n",
              "    .colab-df-container {\n",
              "      display:flex;\n",
              "      gap: 12px;\n",
              "    }\n",
              "\n",
              "    .colab-df-convert {\n",
              "      background-color: #E8F0FE;\n",
              "      border: none;\n",
              "      border-radius: 50%;\n",
              "      cursor: pointer;\n",
              "      display: none;\n",
              "      fill: #1967D2;\n",
              "      height: 32px;\n",
              "      padding: 0 0 0 0;\n",
              "      width: 32px;\n",
              "    }\n",
              "\n",
              "    .colab-df-convert:hover {\n",
              "      background-color: #E2EBFA;\n",
              "      box-shadow: 0px 1px 2px rgba(60, 64, 67, 0.3), 0px 1px 3px 1px rgba(60, 64, 67, 0.15);\n",
              "      fill: #174EA6;\n",
              "    }\n",
              "\n",
              "    .colab-df-buttons div {\n",
              "      margin-bottom: 4px;\n",
              "    }\n",
              "\n",
              "    [theme=dark] .colab-df-convert {\n",
              "      background-color: #3B4455;\n",
              "      fill: #D2E3FC;\n",
              "    }\n",
              "\n",
              "    [theme=dark] .colab-df-convert:hover {\n",
              "      background-color: #434B5C;\n",
              "      box-shadow: 0px 1px 3px 1px rgba(0, 0, 0, 0.15);\n",
              "      filter: drop-shadow(0px 1px 2px rgba(0, 0, 0, 0.3));\n",
              "      fill: #FFFFFF;\n",
              "    }\n",
              "  </style>\n",
              "\n",
              "    <script>\n",
              "      const buttonEl =\n",
              "        document.querySelector('#df-40d91d7f-0409-444c-a96d-a09010b92c0c button.colab-df-convert');\n",
              "      buttonEl.style.display =\n",
              "        google.colab.kernel.accessAllowed ? 'block' : 'none';\n",
              "\n",
              "      async function convertToInteractive(key) {\n",
              "        const element = document.querySelector('#df-40d91d7f-0409-444c-a96d-a09010b92c0c');\n",
              "        const dataTable =\n",
              "          await google.colab.kernel.invokeFunction('convertToInteractive',\n",
              "                                                    [key], {});\n",
              "        if (!dataTable) return;\n",
              "\n",
              "        const docLinkHtml = 'Like what you see? Visit the ' +\n",
              "          '<a target=\"_blank\" href=https://colab.research.google.com/notebooks/data_table.ipynb>data table notebook</a>'\n",
              "          + ' to learn more about interactive tables.';\n",
              "        element.innerHTML = '';\n",
              "        dataTable['output_type'] = 'display_data';\n",
              "        await google.colab.output.renderOutput(dataTable, element);\n",
              "        const docLink = document.createElement('div');\n",
              "        docLink.innerHTML = docLinkHtml;\n",
              "        element.appendChild(docLink);\n",
              "      }\n",
              "    </script>\n",
              "  </div>\n",
              "\n",
              "\n",
              "    <div id=\"df-10a46bd2-ba99-4c4d-abbc-e516e67d7e60\">\n",
              "      <button class=\"colab-df-quickchart\" onclick=\"quickchart('df-10a46bd2-ba99-4c4d-abbc-e516e67d7e60')\"\n",
              "                title=\"Suggest charts\"\n",
              "                style=\"display:none;\">\n",
              "\n",
              "<svg xmlns=\"http://www.w3.org/2000/svg\" height=\"24px\"viewBox=\"0 0 24 24\"\n",
              "     width=\"24px\">\n",
              "    <g>\n",
              "        <path d=\"M19 3H5c-1.1 0-2 .9-2 2v14c0 1.1.9 2 2 2h14c1.1 0 2-.9 2-2V5c0-1.1-.9-2-2-2zM9 17H7v-7h2v7zm4 0h-2V7h2v10zm4 0h-2v-4h2v4z\"/>\n",
              "    </g>\n",
              "</svg>\n",
              "      </button>\n",
              "\n",
              "<style>\n",
              "  .colab-df-quickchart {\n",
              "      --bg-color: #E8F0FE;\n",
              "      --fill-color: #1967D2;\n",
              "      --hover-bg-color: #E2EBFA;\n",
              "      --hover-fill-color: #174EA6;\n",
              "      --disabled-fill-color: #AAA;\n",
              "      --disabled-bg-color: #DDD;\n",
              "  }\n",
              "\n",
              "  [theme=dark] .colab-df-quickchart {\n",
              "      --bg-color: #3B4455;\n",
              "      --fill-color: #D2E3FC;\n",
              "      --hover-bg-color: #434B5C;\n",
              "      --hover-fill-color: #FFFFFF;\n",
              "      --disabled-bg-color: #3B4455;\n",
              "      --disabled-fill-color: #666;\n",
              "  }\n",
              "\n",
              "  .colab-df-quickchart {\n",
              "    background-color: var(--bg-color);\n",
              "    border: none;\n",
              "    border-radius: 50%;\n",
              "    cursor: pointer;\n",
              "    display: none;\n",
              "    fill: var(--fill-color);\n",
              "    height: 32px;\n",
              "    padding: 0;\n",
              "    width: 32px;\n",
              "  }\n",
              "\n",
              "  .colab-df-quickchart:hover {\n",
              "    background-color: var(--hover-bg-color);\n",
              "    box-shadow: 0 1px 2px rgba(60, 64, 67, 0.3), 0 1px 3px 1px rgba(60, 64, 67, 0.15);\n",
              "    fill: var(--button-hover-fill-color);\n",
              "  }\n",
              "\n",
              "  .colab-df-quickchart-complete:disabled,\n",
              "  .colab-df-quickchart-complete:disabled:hover {\n",
              "    background-color: var(--disabled-bg-color);\n",
              "    fill: var(--disabled-fill-color);\n",
              "    box-shadow: none;\n",
              "  }\n",
              "\n",
              "  .colab-df-spinner {\n",
              "    border: 2px solid var(--fill-color);\n",
              "    border-color: transparent;\n",
              "    border-bottom-color: var(--fill-color);\n",
              "    animation:\n",
              "      spin 1s steps(1) infinite;\n",
              "  }\n",
              "\n",
              "  @keyframes spin {\n",
              "    0% {\n",
              "      border-color: transparent;\n",
              "      border-bottom-color: var(--fill-color);\n",
              "      border-left-color: var(--fill-color);\n",
              "    }\n",
              "    20% {\n",
              "      border-color: transparent;\n",
              "      border-left-color: var(--fill-color);\n",
              "      border-top-color: var(--fill-color);\n",
              "    }\n",
              "    30% {\n",
              "      border-color: transparent;\n",
              "      border-left-color: var(--fill-color);\n",
              "      border-top-color: var(--fill-color);\n",
              "      border-right-color: var(--fill-color);\n",
              "    }\n",
              "    40% {\n",
              "      border-color: transparent;\n",
              "      border-right-color: var(--fill-color);\n",
              "      border-top-color: var(--fill-color);\n",
              "    }\n",
              "    60% {\n",
              "      border-color: transparent;\n",
              "      border-right-color: var(--fill-color);\n",
              "    }\n",
              "    80% {\n",
              "      border-color: transparent;\n",
              "      border-right-color: var(--fill-color);\n",
              "      border-bottom-color: var(--fill-color);\n",
              "    }\n",
              "    90% {\n",
              "      border-color: transparent;\n",
              "      border-bottom-color: var(--fill-color);\n",
              "    }\n",
              "  }\n",
              "</style>\n",
              "\n",
              "      <script>\n",
              "        async function quickchart(key) {\n",
              "          const quickchartButtonEl =\n",
              "            document.querySelector('#' + key + ' button');\n",
              "          quickchartButtonEl.disabled = true;  // To prevent multiple clicks.\n",
              "          quickchartButtonEl.classList.add('colab-df-spinner');\n",
              "          try {\n",
              "            const charts = await google.colab.kernel.invokeFunction(\n",
              "                'suggestCharts', [key], {});\n",
              "          } catch (error) {\n",
              "            console.error('Error during call to suggestCharts:', error);\n",
              "          }\n",
              "          quickchartButtonEl.classList.remove('colab-df-spinner');\n",
              "          quickchartButtonEl.classList.add('colab-df-quickchart-complete');\n",
              "        }\n",
              "        (() => {\n",
              "          let quickchartButtonEl =\n",
              "            document.querySelector('#df-10a46bd2-ba99-4c4d-abbc-e516e67d7e60 button');\n",
              "          quickchartButtonEl.style.display =\n",
              "            google.colab.kernel.accessAllowed ? 'block' : 'none';\n",
              "        })();\n",
              "      </script>\n",
              "    </div>\n",
              "\n",
              "    </div>\n",
              "  </div>\n"
            ],
            "application/vnd.google.colaboratory.intrinsic+json": {
              "type": "dataframe",
              "variable_name": "df",
              "summary": "{\n  \"name\": \"df\",\n  \"rows\": 42786,\n  \"fields\": [\n    {\n      \"column\": \"URI\",\n      \"properties\": {\n        \"dtype\": \"string\",\n        \"num_unique_values\": 42786,\n        \"samples\": [\n          \"<http://dbpedia.org/resource/Tom_Bancroft>\",\n          \"<http://dbpedia.org/resource/Bart_Zeller>\",\n          \"<http://dbpedia.org/resource/Caitlin_Morrall>\"\n        ],\n        \"semantic_type\": \"\",\n        \"description\": \"\"\n      }\n    },\n    {\n      \"column\": \"name\",\n      \"properties\": {\n        \"dtype\": \"string\",\n        \"num_unique_values\": 42785,\n        \"samples\": [\n          \"Tom Bancroft\",\n          \"James Holt (scholar)\",\n          \"Chen Tze-chung\"\n        ],\n        \"semantic_type\": \"\",\n        \"description\": \"\"\n      }\n    },\n    {\n      \"column\": \"text\",\n      \"properties\": {\n        \"dtype\": \"string\",\n        \"num_unique_values\": 42786,\n        \"samples\": [\n          \"tom bancroft born 1967 london is a british jazz drummer and composer he began drumming aged seven and started off playing jazz with his father and identical twin brother phil after studying medicine at cambridge university he spent a year studying composition and arranging at mcgill university in montreal canada qualifying as a doctor in 1992 he then worked as a jazz musician and composer supporting his music income with locum work as a hospital doctor until 1998 when he began starting music related companies he is married to singer gina rae and has two children sam and sophie in 2004 he received the creative scotland awardin 1998 he launched caber music with support from the national lottery fund which went on to release over thirty cds over the next seven years to critical acclaim including two bbc jazz awards for best cd and numerous album of the year placings he has subsequently started the company abc creative music with his twin brother phil bancroft which develops creative music education resources which are now being used in more than 500 schools in scotlandas a drummer he has studied with jo morello joey baron and andrew cyrille and played with many musicians including sun ra joakim milder charlie mariano hamiett bluiett liane carroll oliver lake george colligan david berkman tommy smith julian argelles emil vicklicky martin taylor sheila jordan shooglenifty karen mathieson reid anderson billy jenkins bill wells geri allen mr mcfalls chamber and martyn bennetthe is currently the drummer with the dave milligan trio the chick lyall trio and kevin mackenzies vital signs the laura macdonald quartet and octet and plays in an improvising duo with the italian guitarist enzo roccohe is drummer and coleader of trio aab whose first album cold fusion was named an album of 1999 by bbc radio 3 and whose second album wherever i lay my home thats my hat was an album of 2001 in the guardian and picked in a list of 100 essential all time jazz albums by mojo magazine in 2001 they also released stranger things happen at c in 2002 reactivated in 2011 trio aab performed at the delhi jazz festivalas a band leader and composer he has led orchestro interrupto formerly the tom bancroft orchestra a contemporary jazz big band producing the album pieology in 1998 many festival performances a uk tour and a live concert broadcast on bbc radio 3 in 2004 the band toured the uk with geri allen and the tour was broadcast on bbc radio 3 and received five star reviews in the guardian and the scotsman and was voted jazz gig of the year in manchesters city limits and londons time out magazines orchestri interrupto released a cd in 2009 of the music from the geri allen tour with chick lyall on piano entitled the ballad of linda crawford bancroft has also composed for smaller groups including the orange ear ensemble octet and kilt couture a collaboration with french group arfi in 2006 he launched the new tom bancroft 6 pack as well as a spinoff childrens focussed band from the orchestra called kidsamonium which premiered at the gateshead international jazz festival at the sage gateshead and also at the cheltenham jazz festival in 2006 and went on to perform all over europebancrofts compositions have been used in radio film dance television and theatre he has been commissioned by bbc scotland bbc radio 3 glasgow international jazz festival assembly direct birmingham jazz and the national youth jazz orchestra of scotland he has danced in played and composed music for life on the planets surface with kelsey michael and a case for a picnic pt2 tracing houdini and hoops hats acrobats with the choreographer ruby worthhe has led many large scale community and education projects including 150 primary school children performing at the london jazz festival 200 at perth concert hall with classical percussionist colin currie and 100 parents grandparents and children playing drums and percussion at the big stix project at the gateshead jazz festivalbancroft is an active teacher and educator from private drum students to teaching composition and leading big bands he is an apple distinguished educator he has always been active in setting up new ways to promote jazz and improvisation he curated a series of mini festivals for uk and european musicians inside the glasgow jazz festival in the 1990s called clandemonium and europhonium he was active in setting up the scottish jazz federationin 2010 he was musical director of major dance show off kilter which played in major venues across scotland toured scotland with the dave milligan trio and premiered the band of eden malefemale big band to critical acclaimin late 2010 in his role at abc creative music bancroft launched the website abc creative music online to allow scottish schools to teach creative music by smartboard\",\n          \"barton wallace zeller born july 22 1941 is a former professional baseball catcher he played one game in major league baseball in 1970 for the st louis cardinals he recently served as manager of the joliet slammers of the frontier league but was released on september 10 2012zeller was signed by the cardinals in 1963 and spent four years in the cardinals farm system after missing the 1967 season he spent 1968 and 1969 with the lewiston broncs and arkansas travelers respectively zeller played in his only major league game on may 21 1970 against the philadelphia phillies he was inserted to catch the bottom of the ninth inning zeller never had a plate appearance but was credited with one put out on billy mccools strikeout of jim hutto zeller batted and threw righthanded his jersey number was 29 at the time of play he was 6 ft 1 in tall and weighed 185 lbzeller was released as an active player by the cardinals on june 8 but stayed on as a coach for the balance of the 1970 season he played in the minors in 1971 in the milwaukee brewers and new york yankees organizationszeller was the hitting coachthird base coach for the southern illinois miners of the frontier league an independent baseball league zeller began working for the miners in their inaugural 2007 season before coming to the miners zeller spent two seasons with the sioux falls canaries as a bench coach zeller was named as the first manager of slammers in january 2011zeller is currently managing the washington wild things of the frontier league\",\n          \"caitlin shea morrall machol born may 2 1983 is a beauty queen from burlington wisconsin who competed in the 2008 miss usa pageantmorrall who had previously competed in the miss wisconsin america system won the miss wisconsin usa 2007 title in the state pageant held at richland center on 2 september 2006 she competed in the nationally televised miss usa 2007 pageant which was broadcast live from the kodak theatre in hollywood california on march 23 2007 where she placed in top 15 this was the best finish by a contestant from wisconsin in 28 yearsin june 2006 morrall placed first runnerup in the miss wisconsin competition where she competed as miss burlington area chocolatefest she had previously placed 3rd runnerup in 2004 1st runnerup in 2003 and 2nd runnerup in 2002 morrall has held other local titles such as miss racine in 2002 miss milwaukee in 2003 and miss southern wisconsin in 2004 despite being eligible to compete in the miss america system for one more year morrall made the decision to compete in the miss wisconsin usa pageant one week before applications for the pageant closedmorrall is a 2001 graduate of burlington high school wisconsin and is a 2008 graduate of alverno college in milwaukee with a bachelor of arts degree in professional communicationcaitlin is currently the traffic reporter in the morning for wtmjtv 4\"\n        ],\n        \"semantic_type\": \"\",\n        \"description\": \"\"\n      }\n    },\n    {\n      \"column\": \"copied_name\",\n      \"properties\": {\n        \"dtype\": \"string\",\n        \"num_unique_values\": 42785,\n        \"samples\": [\n          \"Tom Bancroft\",\n          \"James Holt (scholar)\",\n          \"Chen Tze-chung\"\n        ],\n        \"semantic_type\": \"\",\n        \"description\": \"\"\n      }\n    }\n  ]\n}"
            }
          },
          "metadata": {},
          "execution_count": 32
        }
      ]
    },
    {
      "cell_type": "code",
      "source": [
        "def clean_name(name):\n",
        "    if pd.isnull(name):\n",
        "        return name\n",
        "    # Remove only uppercase letters and digits immediately after a '%' symbol\n",
        "    name = re.sub(r'%[A-Z0-9]+', '', name)\n",
        "    name = re.sub(r'\\s+', ' ', name).strip()\n",
        "    return name\n",
        "\n",
        "# Apply the function to the 'name' column\n",
        "df['name'] = df['name'].apply(clean_name)"
      ],
      "metadata": {
        "id": "yWGH1PDRHYMa"
      },
      "execution_count": 33,
      "outputs": []
    },
    {
      "cell_type": "markdown",
      "source": [
        "Let's check if the name column is processed correctly"
      ],
      "metadata": {
        "id": "qWHkkIb-JK0j"
      }
    },
    {
      "cell_type": "code",
      "source": [
        "# Fetching rows with '%' in 'column_name'\n",
        "filtered_df = df[df['copied_name'].str.contains('%', na=False)]\n",
        "print(filtered_df)"
      ],
      "metadata": {
        "colab": {
          "base_uri": "https://localhost:8080/"
        },
        "id": "TbGCSMjdJGJ2",
        "outputId": "f7463278-6ae4-4f34-ba16-5ad9d8e8e342"
      },
      "execution_count": 34,
      "outputs": [
        {
          "output_type": "stream",
          "name": "stdout",
          "text": [
            "                                                     URI                name  \\\n",
            "35     <http://dbpedia.org/resource/Freimut_B%C3%B6rn...      Freimut Brngen   \n",
            "36     <http://dbpedia.org/resource/Th%C3%BCring_Br%C...          Thring Brm   \n",
            "73     <http://dbpedia.org/resource/Marcel_J._Melan%C...   Marcel J. Melanon   \n",
            "85     <http://dbpedia.org/resource/Zvonimir_Juri%C4%87>       Zvonimir Juri   \n",
            "122    <http://dbpedia.org/resource/Se%C3%A1n_%C3%93g...        Sen g hAilpn   \n",
            "...                                                  ...                 ...   \n",
            "42724   <http://dbpedia.org/resource/Jos%C3%A9_Higueras>        Jos Higueras   \n",
            "42732  <http://dbpedia.org/resource/Ole_Gunnar_Solskj...  Ole Gunnar Solskjr   \n",
            "42733  <http://dbpedia.org/resource/Gerd_Gr%C3%B8nvol...   Gerd Grnvold Saue   \n",
            "42746  <http://dbpedia.org/resource/Floria_M%C3%A1rquez>       Floria Mrquez   \n",
            "42784  <http://dbpedia.org/resource/Tatiana_Faberg%C3...      Tatiana Faberg   \n",
            "\n",
            "                                                    text  \\\n",
            "35     freimut brngen born october 17 1930 is a germa...   \n",
            "36     thring brm born 10 april 1944 is a swiss compo...   \n",
            "73     marcel j mlanon is a philosopher and scientist...   \n",
            "85     zvonimir juri born 4 june 1971 is a croatian f...   \n",
            "122    sen g hailpn born 22 may 1977 is a fijianirish...   \n",
            "...                                                  ...   \n",
            "42724  jos higueras born february 28 1953 in diezma a...   \n",
            "42732  ole gunnar solskjr born 26 february 1973 is a ...   \n",
            "42733  gerd grnvold saue born 20 january 1930 is a no...   \n",
            "42746  floria mrquez b february 11 1950 in caracas is...   \n",
            "42784  tatiana faberg is an author and faberg scholar...   \n",
            "\n",
            "                                 copied_name  \n",
            "35                      Freimut B%C3%B6rngen  \n",
            "36                    Th%C3%BCring Br%C3%A4m  \n",
            "73                   Marcel J. Melan%C3%A7on  \n",
            "85                       Zvonimir Juri%C4%87  \n",
            "122    Se%C3%A1n %C3%93g %C3%93 hAilp%C3%ADn  \n",
            "...                                      ...  \n",
            "42724                     Jos%C3%A9 Higueras  \n",
            "42732               Ole Gunnar Solskj%C3%A6r  \n",
            "42733                Gerd Gr%C3%B8nvold Saue  \n",
            "42746                    Floria M%C3%A1rquez  \n",
            "42784                   Tatiana Faberg%C3%A9  \n",
            "\n",
            "[2485 rows x 4 columns]\n"
          ]
        }
      ]
    },
    {
      "cell_type": "code",
      "source": [
        "# Step 1: Bag of Words (BoW)\n",
        "count_vect = CountVectorizer(stop_words='english')\n",
        "X_counts = count_vect.fit_transform(df['text'])\n",
        "\n",
        "# Step 2: TF-IDF weighting\n",
        "tfidf_transformer = TfidfTransformer()\n",
        "X_tfidf = tfidf_transformer.fit_transform(X_counts)\n",
        "\n",
        "# Step 3: Select the target person\n",
        "target_name = \"Grant Nelson\"\n",
        "target_index = df[df['name'] == target_name].index[0]\n",
        "\n",
        "# Step 4: Fit KNN model\n",
        "knn = NearestNeighbors(n_neighbors=11, metric='cosine')  # 11 to include the target\n",
        "knn.fit(X_tfidf)\n",
        "\n",
        "# Step 5: Find nearest neighbors\n",
        "distances, indices = knn.kneighbors(X_tfidf[target_index])\n",
        "\n",
        "# Step 6: Output top 10 similar people (excluding the target person)\n",
        "similar_people = []\n",
        "for i, idx in enumerate(indices[0]):\n",
        "    if idx != target_index:\n",
        "        similarity = 1 - distances[0][i]  # convert cosine distance to similarity\n",
        "        similar_people.append((df.iloc[idx]['name'], similarity))\n",
        "\n",
        "# Step 7: Sentiment Analysis\n",
        "target_text = df.iloc[target_index]['text']\n",
        "sentiment = TextBlob(target_text).sentiment\n",
        "\n",
        "# Final Output\n",
        "print(\"Target Person:\", target_name)\n",
        "print(\"Sentiment of Overview:\")\n",
        "print(f\"  Polarity: {sentiment.polarity:.3f}, Subjectivity: {sentiment.subjectivity:.3f}\\n\")\n",
        "\n",
        "print(\"Top 10 Most Similar People (TF-IDF + KNN):\")\n",
        "for name, sim in similar_people[:10]:\n",
        "    print(f\"  {name} (Similarity Score: {sim:.4f})\")"
      ],
      "metadata": {
        "colab": {
          "base_uri": "https://localhost:8080/"
        },
        "id": "sTn14hGdmpJN",
        "outputId": "6ebda865-0577-4a70-a7c5-41ea3b4bacff"
      },
      "execution_count": 35,
      "outputs": [
        {
          "output_type": "stream",
          "name": "stdout",
          "text": [
            "Target Person: Grant Nelson\n",
            "Sentiment of Overview:\n",
            "  Polarity: 0.247, Subjectivity: 0.477\n",
            "\n",
            "Top 10 Most Similar People (TF-IDF + KNN):\n",
            "  David Nelson (electronic sports player) (Similarity Score: 0.1233)\n",
            "  John Nelson (conductor) (Similarity Score: 0.1173)\n",
            "  Sammy Nelson (Similarity Score: 0.1164)\n",
            "  Mike Nelson (politician) (Similarity Score: 0.1153)\n",
            "  Tyrone Nelson (Similarity Score: 0.1102)\n",
            "  Ben Nelson (footballer) (Similarity Score: 0.1102)\n",
            "  Jeff Nelson (baseball) (Similarity Score: 0.1091)\n",
            "  Nelson Quan (Similarity Score: 0.1083)\n",
            "  Chris Grayston (Similarity Score: 0.1025)\n",
            "  Roger Nelson (baseball) (Similarity Score: 0.1021)\n"
          ]
        }
      ]
    },
    {
      "cell_type": "markdown",
      "metadata": {
        "id": "SyoC6PWeN9un"
      },
      "source": [
        "### Part 2)\n",
        "\n"
      ]
    },
    {
      "cell_type": "markdown",
      "metadata": {
        "id": "AJxfrb48N-v9"
      },
      "source": [
        "- For the same target person that you chose in Part 1), use the Wikipedia API to access the whole content of the target person's Wikipedia page.\n",
        "- The goal of Part 2) is to ...\n",
        "  1. Print out the text of the Wikipedia article for the target person\n",
        "  1. Determine the sentiment of the text of the Wikipedia page for the target person\n",
        "  1. Collect the text of the Wikipedia pages from the 10 nearest neighbors from Part 1)\n",
        "  1. Determine the nearness ranking of these 10 people to your target person based on their entire Wikipedia page\n",
        "  1. Compare, i.e. plot,  the nearest ranking from Step 1) with the Wikipedia page nearness ranking.  A difference of the rank is one means of comparison.\n",
        "\n"
      ]
    },
    {
      "cell_type": "code",
      "source": [
        "%%capture\n",
        "!pip3 install wikipedia-api\n",
        "import wikipediaapi"
      ],
      "metadata": {
        "id": "clg0cMj8W9Df"
      },
      "execution_count": 36,
      "outputs": []
    },
    {
      "cell_type": "markdown",
      "source": [
        "Print out the text of the Wikipedia article for the target person"
      ],
      "metadata": {
        "id": "5cUr7SXkTKdK"
      }
    },
    {
      "cell_type": "code",
      "source": [
        "target_title = 'Grant Nelson (DJ) '\n",
        "wikip = wikipediaapi.Wikipedia('foobar')\n",
        "page_ex = wikip.page(target_title)\n",
        "wiki_text = page_ex.text\n",
        "wiki_text"
      ],
      "metadata": {
        "colab": {
          "base_uri": "https://localhost:8080/",
          "height": 174
        },
        "id": "ii1TkbKxXD-R",
        "outputId": "f9da0137-288c-4895-e75e-9dd1c5af33e3"
      },
      "execution_count": 37,
      "outputs": [
        {
          "output_type": "execute_result",
          "data": {
            "text/plain": [
              "'Grant Nelson (born April 1971), also known as Wishdokta, Bump & Flex and N\\'n\\'G, is an English DJ, remixer and record producer.\\n\\nBiography\\nIn the 1990s, inspired by producers such as Masters at Work, MK and Eddie Perez, he played an important role in the development of the UK garage genre, being heralded as the \"Godfather of UK Garage\".\\nIn 2013, Nelson appeared alongside many other garage pioneers in a documentary exploring the legacy of UK garage, Rewind 4Ever: The History of UK Garage.\\nHit singles on the UK charts as Bump & Flex include \"Long Time Coming\" (UK #73, UK Dance #3) and \"Got Myself Together\" (UK #84, UK Dance #3), and as one half of N\\'n\\'G, he scored a No. 12 and No. 1 Dance hit with \"Right Before My Eyes\" in 2000.\\nPopular Bump & Flex remixes include Mis-Teeq\\'s \"B with Me\" (UK #5), James Brown\\'s \"Funk on Ah Roll\" (UK #40, UK Dance #1), Indo\\'s \"R U Sleeping\" (UK #31, UK Dance #3) and the Steppers Dub of Nelson\\'s \"Step 2 Me\" (featuring Jean McClain; UK #92, UK Dance #7).\\n\\nReferences\\nExternal links\\nGrantnelson.co.uk Grant Nelson official website\\nDiscogs Grant Nelson discography & remixography\\nSwing City Records Record label co-owned by Grant Nelson'"
            ],
            "application/vnd.google.colaboratory.intrinsic+json": {
              "type": "string"
            }
          },
          "metadata": {},
          "execution_count": 37
        }
      ]
    },
    {
      "cell_type": "code",
      "source": [
        "wiki_text_clean = (\n",
        "  wiki_text\n",
        "  .lower()\n",
        "  .replace(\"\\n\",\" \")\n",
        "  .replace(\"\\'s\",'')\n",
        "  .replace('\\'','')\n",
        "  .replace(\"(\", \"\")\n",
        "  .replace(\")\", \"\")\n",
        "  .replace('\"', \"\")\n",
        ")\n",
        "wiki_text_clean"
      ],
      "metadata": {
        "colab": {
          "base_uri": "https://localhost:8080/",
          "height": 174
        },
        "id": "Ud8Stg1NXHcn",
        "outputId": "5665f8f9-35aa-48c6-f65f-baf2ac228279"
      },
      "execution_count": 38,
      "outputs": [
        {
          "output_type": "execute_result",
          "data": {
            "text/plain": [
              "'grant nelson born april 1971, also known as wishdokta, bump & flex and nng, is an english dj, remixer and record producer.  biography in the 1990s, inspired by producers such as masters at work, mk and eddie perez, he played an important role in the development of the uk garage genre, being heralded as the godfather of uk garage. in 2013, nelson appeared alongside many other garage pioneers in a documentary exploring the legacy of uk garage, rewind 4ever: the history of uk garage. hit singles on the uk charts as bump & flex include long time coming uk #73, uk dance #3 and got myself together uk #84, uk dance #3, and as one half of nng, he scored a no. 12 and no. 1 dance hit with right before my eyes in 2000. popular bump & flex remixes include mis-teeq b with me uk #5, james brown funk on ah roll uk #40, uk dance #1, indo r u sleeping uk #31, uk dance #3 and the steppers dub of nelson step 2 me featuring jean mcclain; uk #92, uk dance #7.  references external links grantnelson.co.uk grant nelson official website discogs grant nelson discography & remixography swing city records record label co-owned by grant nelson'"
            ],
            "application/vnd.google.colaboratory.intrinsic+json": {
              "type": "string"
            }
          },
          "metadata": {},
          "execution_count": 38
        }
      ]
    },
    {
      "cell_type": "code",
      "source": [
        "wiki_blob = TextBlob(wiki_text_clean)\n",
        "wiki_blob"
      ],
      "metadata": {
        "colab": {
          "base_uri": "https://localhost:8080/"
        },
        "id": "TGX3bwpMXRQm",
        "outputId": "2cbe9140-1df2-44b4-fcec-0849712cd5ef"
      },
      "execution_count": 39,
      "outputs": [
        {
          "output_type": "execute_result",
          "data": {
            "text/plain": [
              "TextBlob(\"grant nelson born april 1971, also known as wishdokta, bump & flex and nng, is an english dj, remixer and record producer.  biography in the 1990s, inspired by producers such as masters at work, mk and eddie perez, he played an important role in the development of the uk garage genre, being heralded as the godfather of uk garage. in 2013, nelson appeared alongside many other garage pioneers in a documentary exploring the legacy of uk garage, rewind 4ever: the history of uk garage. hit singles on the uk charts as bump & flex include long time coming uk #73, uk dance #3 and got myself together uk #84, uk dance #3, and as one half of nng, he scored a no. 12 and no. 1 dance hit with right before my eyes in 2000. popular bump & flex remixes include mis-teeq b with me uk #5, james brown funk on ah roll uk #40, uk dance #1, indo r u sleeping uk #31, uk dance #3 and the steppers dub of nelson step 2 me featuring jean mcclain; uk #92, uk dance #7.  references external links grantnelson.co.uk grant nelson official website discogs grant nelson discography & remixography swing city records record label co-owned by grant nelson\")"
            ]
          },
          "metadata": {},
          "execution_count": 39
        }
      ]
    },
    {
      "cell_type": "markdown",
      "source": [
        "Let's determine the sentiment of the text of the Wikipedia page for the target person(Grant Nelson)"
      ],
      "metadata": {
        "id": "qQOY18U1Xc37"
      }
    },
    {
      "cell_type": "code",
      "source": [
        "wiki_blob.sentiment"
      ],
      "metadata": {
        "colab": {
          "base_uri": "https://localhost:8080/"
        },
        "id": "QsxDPgaKXe6S",
        "outputId": "ea1f5c29-11ad-4f42-f7a4-30fe535dd62f"
      },
      "execution_count": 40,
      "outputs": [
        {
          "output_type": "execute_result",
          "data": {
            "text/plain": [
              "Sentiment(polarity=0.13127705627705627, subjectivity=0.407034632034632)"
            ]
          },
          "metadata": {},
          "execution_count": 40
        }
      ]
    },
    {
      "cell_type": "code",
      "source": [
        "neighbor_titles = [\n",
        "   \"David Nelson (electronic sports player)\",\n",
        "  \"John Nelson (conductor)\",\n",
        "  \"Sammy Nelson\",\n",
        "  \"Michael R. Nelson\",\n",
        "  \"Tyrone Nelson\",\n",
        "  \"Ben Nelson (Australian footballer)\",\n",
        "  \"Jeff Nelson (pitcher)\",\n",
        "  \"Nelson Quan\",\n",
        "  \"Chris Grayston\",\n",
        "  \"Roger Nelson (baseball)\"\n",
        "]\n",
        "# Text cleaning function\n",
        "def clean_wikipedia_text(text):\n",
        "    text = re.sub(r'\\[\\d+\\]', '', text)\n",
        "    text = re.split(r'==\\s*References\\s*==', text)[0]\n",
        "    text = re.sub(r'==+.*?==+', '', text)\n",
        "    return re.sub(r'\\s+', ' ', text).strip()\n",
        "\n",
        "# Fetch and clean pages\n",
        "titles = [target_title] + neighbor_titles\n",
        "texts = []\n",
        "valid_titles = []\n",
        "\n",
        "for title in titles:\n",
        "    page = wikip.page(title)\n",
        "    if page.exists():\n",
        "        cleaned = clean_wikipedia_text(page.text)\n",
        "        texts.append(cleaned)\n",
        "        valid_titles.append(title)\n",
        "    else:\n",
        "        print(f\"Page not found: {title}\")\n",
        "\n",
        "# Compute TF-IDF matrix\n",
        "vectorizer = TfidfVectorizer(stop_words='english')\n",
        "tfidf_matrix = vectorizer.fit_transform(texts)\n",
        "\n",
        "# Compute cosine similarities\n",
        "cos_sim = cosine_similarity(tfidf_matrix[0:1], tfidf_matrix[1:])[0]  # similarities to target\n",
        "\n",
        "# Rank by similarity\n",
        "ranked = sorted(zip(valid_titles[1:], cos_sim), key=lambda x: x[1], reverse=True)\n",
        "\n",
        "# Print first 500 characters of each cleaned article\n",
        "print(\"\\n--- First 500 Characters of Each Cleaned Article ---\\n\")\n",
        "for title, text in zip(valid_titles, texts):\n",
        "    print(f\"\\n--- {title} ---\\n\")\n",
        "    print(text[:500])  # Print first 500 characters\n",
        "\n",
        "\n",
        "# Print ranked results\n",
        "print(\"\\n--- Similarity Ranking to Target: Grant Nelson (DJ) ---\\n\")\n",
        "for i, (title, score) in enumerate(ranked, 1):\n",
        "    print(f\"{i}. {title}: {score:.4f}\")"
      ],
      "metadata": {
        "colab": {
          "base_uri": "https://localhost:8080/"
        },
        "id": "_c3CmMPCOCSN",
        "outputId": "e169610b-ca69-4258-e9a4-b0f48fcfc8e2"
      },
      "execution_count": 41,
      "outputs": [
        {
          "output_type": "stream",
          "name": "stdout",
          "text": [
            "\n",
            "--- First 500 Characters of Each Cleaned Article ---\n",
            "\n",
            "\n",
            "--- Grant Nelson (DJ)  ---\n",
            "\n",
            "Grant Nelson (born April 1971), also known as Wishdokta, Bump & Flex and N'n'G, is an English DJ, remixer and record producer. Biography In the 1990s, inspired by producers such as Masters at Work, MK and Eddie Perez, he played an important role in the development of the UK garage genre, being heralded as the \"Godfather of UK Garage\". In 2013, Nelson appeared alongside many other garage pioneers in a documentary exploring the legacy of UK garage, Rewind 4Ever: The History of UK Garage. Hit singl\n",
            "\n",
            "--- David Nelson (electronic sports player) ---\n",
            "\n",
            "David Nelson (born January 18, 1974, in New Hampshire) is an American arcade video game player who holds world record high scores listed in the 2008 Guinness World Records-Gamer's Edition. David Nelson has broken many world records while competing in classic arcade championships at the Funspot Family Fun Center in Weirs Beach, New Hampshire. As of 2008, David Nelson held more than 20 world records on arcade and console game titles. In competitive play, Nelson took third place in the 2001 Classic\n",
            "\n",
            "--- John Nelson (conductor) ---\n",
            "\n",
            "John Wilton Nelson (December 6, 1941 – March 31, 2025) was an American conductor known for his productions of the music of Hector Berlioz. Life and career Nelson's parents were American Protestant missionaries. He studied at Wheaton College and later at the Juilliard School of Music with Jean Morel. Nelson was music director of the Greenwich Philharmonia in Connecticut and the New Jersey Pro Arte Chorale, and also served on the conducting staff of the Metropolitan Opera. In 1972, he conducted hi\n",
            "\n",
            "--- Sammy Nelson ---\n",
            "\n",
            "Samuel Nelson (born 1 April 1949) is a former footballer who played as a left back in the Football League for Arsenal and Brighton & Hove Albion. He was capped 51 times for Northern Ireland and played at the 1982 FIFA World Cup. Club career Arsenal Nelson was born in Belfast where he attended the Royal Belfast Academical Institution, a rugby-playing school. He joined Arsenal as a 16-year-old, and turned professional on his 17th birthday in 1966. Originally a left-winger, he was later moved back \n",
            "\n",
            "--- Michael R. Nelson ---\n",
            "\n",
            "Michael R. Nelson is an American politician who served as Mayor of Carrboro, North Carolina from 1995 to 2005 and as a county commissioner for Orange County from 2006 to 2009. Nelson, who is a co-founder of Equality North Carolina, was the first openly gay mayor in North Carolina. At the time of his inauguration, he was one of five openly gay mayors in the United States. When he left his mayoral office in 2005, he was the longest-serving mayor in Carrboro's history. Early life Mike Nelson grew u\n",
            "\n",
            "--- Tyrone Nelson ---\n",
            "\n",
            "Tyrone Nelson (born July 16, 1985 in Brenham, Texas) is an American basketball player who played with the New Mexico State University Aggies team (Western Athletic Conference) where he majored in Family and Child Sciences. Prior to college, Nelson played four years at Hempstead High School, where he averaged 29 points and 15 rebounds per game. After graduating high school, he played one season for Prairie View A&M, starting 23 games for the Panthers. Nelson averaged 15.1 points and 8.4 rebounds \n",
            "\n",
            "--- Ben Nelson (Australian footballer) ---\n",
            "\n",
            "Ben Nelson (born 23 January 1977) is an Australian rules footballer who played with Carlton and Adelaide in the Australian Football League (AFL). Nelson is the son of famous Sturt player Philip 'Sandy' Nelson, and accordingly played his first senior football with the Sturt Football Club in 1994. He was to join the inaugural Port Adelaide Power team in 1997 as it was admitted to the Australian Football League; however, Port Adelaide traded him and Andrew Balkwill to the Carlton Football Club for \n",
            "\n",
            "--- Jeff Nelson (pitcher) ---\n",
            "\n",
            "Jeffrey Allan Nelson (born November 17, 1966) is an American sports broadcaster and former baseball relief pitcher who played 15 years in Major League Baseball (MLB). He batted and threw right-handed. Nelson had two stints with the New York Yankees, the team with whom he won four World Series championships. Nelson retired from playing in 2007 after signing a minor league contract with the Yankees. In his MLB career, Nelson pitched in 798 games with a 48–45 win–loss record, and with runners in sc\n",
            "\n",
            "--- Nelson Quan ---\n",
            "\n",
            "Nelson Quan (Chinese: 关景元, born October 14, 1984, Houston, Texas, USA) is a Chinese-American film editor, director and producer. His most recent work as an editor for the Volkswagen People's Car Project won the project the Golden Lion Award at the 2013 Cannes Film Festival for Branded Entertainment. He is known for editing the Chinese remake, What Women Want (2011) (Chinese: 《我知女人心》) and produced The Criminally Inept (2006) along with being one of the first students at the University of Hawaii a\n",
            "\n",
            "--- Chris Grayston ---\n",
            "\n",
            "Chris Grayston (born 1971) is an English music promoter, event organizer, record producer, musician, label owner and talent scout. He is currently employed as a music consultant including working for acts and record labels. Biography Live and Unsigned and Open Mic UK In 2007 Grayston organised and co-founded Live and Unsigned, an annual music competition for unsigned acts in the United Kingdom. He has served as events director and head judge for the competition. The competition annually attracts\n",
            "\n",
            "--- Roger Nelson (baseball) ---\n",
            "\n",
            "Roger Eugene Nelson (born June 7, 1944) is an American former professional baseball pitcher. Nelson pitched all or part of nine seasons in Major League Baseball between 1967 and 1976 with a record of 29 wins, 32 losses, and 5 saves. Born in Altadena, California, the right-hander was listed as 6 feet 3 inches (1.91 m) tall and 200 pounds (91 kg). He attended Mount San Antonio College. Nelson was signed by the Chicago White Sox as an amateur free agent before the 1963 season. He played four season\n",
            "\n",
            "--- Similarity Ranking to Target: Grant Nelson (DJ) ---\n",
            "\n",
            "1. Chris Grayston: 0.1395\n",
            "2. Jeff Nelson (pitcher): 0.0619\n",
            "3. Ben Nelson (Australian footballer): 0.0406\n",
            "4. Roger Nelson (baseball): 0.0400\n",
            "5. John Nelson (conductor): 0.0398\n",
            "6. Tyrone Nelson: 0.0375\n",
            "7. David Nelson (electronic sports player): 0.0354\n",
            "8. Sammy Nelson: 0.0345\n",
            "9. Nelson Quan: 0.0253\n",
            "10. Michael R. Nelson: 0.0182\n"
          ]
        }
      ]
    },
    {
      "cell_type": "markdown",
      "source": [
        "Compare the nearest ranking from Part 1 with the Wikipedia page nearness ranking."
      ],
      "metadata": {
        "id": "rH1-qx0FTW75"
      }
    },
    {
      "cell_type": "code",
      "source": [
        "# Assuming you have this data-based ranking from Part 1 (replace with actual data)\n",
        "data_ranking = [\n",
        "  \"David Nelson (electronic sports player)\",\n",
        "  \"John Nelson (conductor)\",\n",
        "  \"Sammy Nelson\",\n",
        "  \"Michael R. Nelson\",\n",
        "  \"Tyrone Nelson\",\n",
        "  \"Ben Nelson (Australian footballer)\",\n",
        "  \"Jeff Nelson (pitcher)\",\n",
        "  \"Nelson Quan\",\n",
        "  \"Chris Grayston\",\n",
        "  \"Roger Nelson (baseball)\"\n",
        "]\n",
        "\n",
        "# The Wikipedia-based ranking we calculated previously (from ranked list)\n",
        "wiki_ranking = [title for title, _ in ranked]\n",
        "\n",
        "# Calculate the rank difference\n",
        "rank_differences = {}\n",
        "\n",
        "for person in data_ranking:\n",
        "    if person in wiki_ranking:\n",
        "        data_rank = data_ranking.index(person) + 1\n",
        "        wiki_rank = wiki_ranking.index(person) + 1\n",
        "        rank_difference = abs(data_rank - wiki_rank)\n",
        "        rank_differences[person] = rank_difference\n",
        "    else:\n",
        "        rank_differences[person] = \"Not in Wikipedia Ranking\"\n",
        "\n",
        "# Display rank differences\n",
        "print(\"\\n--- Rank Differences ---\\n\")\n",
        "for person, diff in rank_differences.items():\n",
        "    print(f\"{person}: Difference = {diff}\")\n"
      ],
      "metadata": {
        "colab": {
          "base_uri": "https://localhost:8080/"
        },
        "id": "P8A1deCPSDTU",
        "outputId": "a2b54afc-28c3-451b-cc5a-7bf2d5254520"
      },
      "execution_count": 42,
      "outputs": [
        {
          "output_type": "stream",
          "name": "stdout",
          "text": [
            "\n",
            "--- Rank Differences ---\n",
            "\n",
            "David Nelson (electronic sports player): Difference = 6\n",
            "John Nelson (conductor): Difference = 3\n",
            "Sammy Nelson: Difference = 5\n",
            "Michael R. Nelson: Difference = 6\n",
            "Tyrone Nelson: Difference = 1\n",
            "Ben Nelson (Australian footballer): Difference = 3\n",
            "Jeff Nelson (pitcher): Difference = 5\n",
            "Nelson Quan: Difference = 1\n",
            "Chris Grayston: Difference = 8\n",
            "Roger Nelson (baseball): Difference = 6\n"
          ]
        }
      ]
    },
    {
      "cell_type": "code",
      "source": [
        "# Prepare data for visualization\n",
        "names = list(rank_differences.keys())\n",
        "differences = list(rank_differences.values())\n",
        "\n",
        "# Plotting the bar chart\n",
        "plt.figure(figsize=(12, 6))\n",
        "bars = plt.bar(names, differences, color='skyblue')\n",
        "plt.title(\"Rank Difference Between Data-Based Ranking and Wikipedia Ranking\")\n",
        "plt.xlabel(\"Person\")\n",
        "plt.ylabel(\"Rank Difference\")\n",
        "plt.xticks(rotation=45, ha='right')\n",
        "\n",
        "# Add values on top of bars\n",
        "for bar in bars:\n",
        "    height = bar.get_height()\n",
        "    plt.text(bar.get_x() + bar.get_width()/2, height + 0.1, f\"{int(height)}\",\n",
        "             ha='center', fontsize=10)\n",
        "\n",
        "plt.tight_layout()\n",
        "plt.show()\n"
      ],
      "metadata": {
        "colab": {
          "base_uri": "https://localhost:8080/",
          "height": 488
        },
        "id": "U17RxRbiUIVG",
        "outputId": "4d69ca13-6c54-4151-d30a-aed321065bc8"
      },
      "execution_count": 43,
      "outputs": [
        {
          "output_type": "display_data",
          "data": {
            "text/plain": [
              "<Figure size 1200x600 with 1 Axes>"
            ],
            "image/png": "[encoded data removed]"
          },
          "metadata": {}
        }
      ]
    },
    {
      "cell_type": "markdown",
      "metadata": {
        "id": "xEIw9hfFObw7"
      },
      "source": [
        "### Part 3)\n"
      ]
    },
    {
      "cell_type": "markdown",
      "metadata": {
        "id": "SVW0y4Axty7A"
      },
      "source": [
        "Make an interactive notebook where a user can choose or enter a name and the notebook displays the 10 closest individuals.\n",
        "\n",
        "In addition to presenting the project slides, at the end of the presentation each student will demonstrate their code using a famous person suggested by the other students that exists in the DBpedia set.\n"
      ]
    },
    {
      "cell_type": "code",
      "source": [
        "!curl -s https://ddc-datascience.s3.amazonaws.com/Projects/Project.5-NLP/Data/NLP.csv | wc -l"
      ],
      "metadata": {
        "id": "t6dopgR3vfDU",
        "colab": {
          "base_uri": "https://localhost:8080/"
        },
        "outputId": "c81d1e4c-3650-4aea-91c5-595687d17167"
      },
      "execution_count": 44,
      "outputs": [
        {
          "output_type": "stream",
          "name": "stdout",
          "text": [
            "42786\n"
          ]
        }
      ]
    },
    {
      "cell_type": "markdown",
      "source": [
        "Make an interactive notebook where a user can choose or enter a name and the notebook displays the 10 closest individuals."
      ],
      "metadata": {
        "id": "4qkqAmpovTnA"
      }
    },
    {
      "cell_type": "code",
      "source": [
        "# TF-IDF Vectorization\n",
        "vectorizer = TfidfVectorizer(stop_words='english')\n",
        "tfidf_matrix = vectorizer.fit_transform(df['text'])\n",
        "\n",
        "# KNN Model\n",
        "knn = NearestNeighbors(n_neighbors=11, metric='cosine')\n",
        "knn.fit(tfidf_matrix)\n",
        "\n",
        "# Widgets\n",
        "input_box = widgets.Text(\n",
        "    value='',\n",
        "    description='Enter Name:',\n",
        "    placeholder='Type a name...'\n",
        ")\n",
        "search_button = widgets.Button(\n",
        "    description=\"Search\",\n",
        "    button_style=\"success\"\n",
        ")\n",
        "output_area = widgets.Output()\n",
        "\n",
        "# Function to find similar people\n",
        "def find_similar_people(target_name):\n",
        "    with output_area:\n",
        "        clear_output()\n",
        "        if target_name not in df['name'].values:\n",
        "            print(f\"'{target_name}' not found in the list. Please enter a valid name.\")\n",
        "            return\n",
        "\n",
        "        target_index = df[df['name'] == target_name].index[0]\n",
        "        distances, indices = knn.kneighbors(tfidf_matrix[target_index])\n",
        "\n",
        "        print(f\"\\nTarget Person: {target_name}\")\n",
        "        print(\"\\nTop 10 Most Similar People:\")\n",
        "        for i, idx in enumerate(indices[0]):\n",
        "            if idx != target_index:\n",
        "                similarity = 1 - distances[0][i]\n",
        "                print(f\"  {df.iloc[idx]['name']} (Similarity Score: {similarity:.4f})\")\n",
        "\n",
        "# Trigger search on button click\n",
        "def on_button_click(b):\n",
        "    find_similar_people(input_box.value)\n",
        "\n",
        "search_button.on_click(on_button_click)\n",
        "\n",
        "# Display input, button, and output area\n",
        "display(widgets.VBox([input_box, search_button, output_area]))"
      ],
      "metadata": {
        "id": "XXYZa-aiJg57"
      },
      "execution_count": null,
      "outputs": []
    }
  ],
  "metadata": {
    "colab": {
      "provenance": [],
      "toc_visible": true,
      "include_colab_link": true
    },
    "kernelspec": {
      "display_name": "Python 3 (ipykernel)",
      "language": "python",
      "name": "python3"
    },
    "language_info": {
      "codemirror_mode": {
        "name": "ipython",
        "version": 3
      },
      "file_extension": ".py",
      "mimetype": "text/x-python",
      "name": "python",
      "nbconvert_exporter": "python",
      "pygments_lexer": "ipython3",
      "version": "3.10.12"
    }
  },
  "nbformat": 4,
  "nbformat_minor": 0
}