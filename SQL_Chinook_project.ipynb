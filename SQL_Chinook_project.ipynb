{
  "nbformat": 4,
  "nbformat_minor": 0,
  "metadata": {
    "colab": {
      "provenance": [],
      "toc_visible": true,
      "include_colab_link": true
    },
    "kernelspec": {
      "name": "python3",
      "display_name": "Python 3"
    },
    "language_info": {
      "name": "python"
    }
  },
  "cells": [
    {
      "cell_type": "markdown",
      "metadata": {
        "id": "view-in-github",
        "colab_type": "text"
      },
      "source": [
        "<a href=\"https://colab.research.google.com/github/AmalaRaju/DDDS-Projects/blob/main/SQL_Chinook_project.ipynb\" target=\"_parent\"><img src=\"https://colab.research.google.com/assets/colab-badge.svg\" alt=\"Open In Colab\"/></a>"
      ]
    },
    {
      "cell_type": "markdown",
      "source": [
        "# Project SQL - Chinook\n"
      ],
      "metadata": {
        "id": "cJG_e1vK2NMI"
      }
    },
    {
      "cell_type": "markdown",
      "source": [
        "## Chinook data set\n",
        "\n",
        "See the lecture on SQLite3 using the Chinook data set to set up the software, database, and tables, as well as for the links to ancillary information about the data set.\n"
      ],
      "metadata": {
        "id": "s6jMcIbW3P5o"
      }
    },
    {
      "cell_type": "code",
      "source": [
        "# Install the sqlite package for Ubuntu\n",
        "# Download the Chinook sqlite database\n",
        "import sqlite3 as db\n",
        "import pandas as pd\n",
        "import numpy as np\n",
        "import matplotlib.pyplot as plt\n",
        "from sklearn.model_selection import train_test_split\n",
        "from sklearn.preprocessing import OneHotEncoder, StandardScaler\n",
        "from sklearn.linear_model import LinearRegression\n",
        "from sklearn.metrics import mean_absolute_error, mean_squared_error"
      ],
      "metadata": {
        "id": "UhFW0uTR6Jfv"
      },
      "execution_count": 16,
      "outputs": []
    },
    {
      "cell_type": "code",
      "source": [
        "%%capture\n",
        "%%bash\n",
        "apt-get update\n",
        "apt-get install -y sqlite3"
      ],
      "metadata": {
        "id": "ZMa1iBB3FCu_"
      },
      "execution_count": 17,
      "outputs": []
    },
    {
      "cell_type": "code",
      "source": [
        "%%bash\n",
        "[ -f chinook.zip ] ||\n",
        "  curl -s -O https://www.sqlitetutorial.net/wp-content/uploads/2018/03/chinook.zip\n",
        "unzip -l chinook.zip"
      ],
      "metadata": {
        "id": "wz5Pv2SyFLKa",
        "outputId": "8b1324f7-4b45-488b-f2f7-24764b2910e9",
        "colab": {
          "base_uri": "https://localhost:8080/"
        }
      },
      "execution_count": 18,
      "outputs": [
        {
          "output_type": "stream",
          "name": "stdout",
          "text": [
            "Archive:  chinook.zip\n",
            "  Length      Date    Time    Name\n",
            "---------  ---------- -----   ----\n",
            "   884736  2015-11-29 10:53   chinook.db\n",
            "---------                     -------\n",
            "   884736                     1 file\n"
          ]
        }
      ]
    },
    {
      "cell_type": "code",
      "source": [
        "!rm -f chinook.db"
      ],
      "metadata": {
        "id": "U-z9ml2UFnBe"
      },
      "execution_count": 19,
      "outputs": []
    },
    {
      "cell_type": "code",
      "source": [
        "!unzip -u chinook.zip"
      ],
      "metadata": {
        "id": "Uu9QOmniFioO",
        "outputId": "8dae212b-36f6-4705-c8a6-3b095db80c47",
        "colab": {
          "base_uri": "https://localhost:8080/"
        }
      },
      "execution_count": 20,
      "outputs": [
        {
          "output_type": "stream",
          "name": "stdout",
          "text": [
            "Archive:  chinook.zip\n",
            "  inflating: chinook.db              \n"
          ]
        }
      ]
    },
    {
      "cell_type": "code",
      "source": [
        "!ls -la"
      ],
      "metadata": {
        "id": "GrZv62n8Fo46",
        "outputId": "173f9687-6634-4717-fa9b-e05ca7f1e8fe",
        "colab": {
          "base_uri": "https://localhost:8080/"
        }
      },
      "execution_count": 21,
      "outputs": [
        {
          "output_type": "stream",
          "name": "stdout",
          "text": [
            "total 1180\n",
            "drwxr-xr-x 1 root root   4096 Apr  4 21:08 .\n",
            "drwxr-xr-x 1 root root   4096 Apr  4 19:27 ..\n",
            "-rw-r--r-- 1 root root 884736 Nov 29  2015 chinook.db\n",
            "-rw-r--r-- 1 root root 305596 Apr  4 19:29 chinook.zip\n",
            "drwxr-xr-x 4 root root   4096 Apr  3 13:37 .config\n",
            "drwxr-xr-x 1 root root   4096 Apr  3 13:37 sample_data\n"
          ]
        }
      ]
    },
    {
      "cell_type": "code",
      "source": [
        "\n",
        "%%script sqlite3 --column --header chinook.db\n",
        ".tables\n"
      ],
      "metadata": {
        "id": "6_L2b_J_HquJ",
        "outputId": "0e38ad50-7300-4e3c-a969-8a6f9614ceda",
        "colab": {
          "base_uri": "https://localhost:8080/"
        }
      },
      "execution_count": 22,
      "outputs": [
        {
          "output_type": "stream",
          "name": "stdout",
          "text": [
            "albums          employees       invoices        playlists     \n",
            "artists         genres          media_types     tracks        \n",
            "customers       invoice_items   playlist_track\n"
          ]
        }
      ]
    },
    {
      "cell_type": "code",
      "source": [
        "%%script sqlite3 --column --header chinook.db\n",
        "select *\n",
        "from employees\n",
        "limit 10\n"
      ],
      "metadata": {
        "id": "FKxNc1dYHr7T",
        "outputId": "7bacb81d-a942-46e5-a098-03462e95175c",
        "colab": {
          "base_uri": "https://localhost:8080/"
        }
      },
      "execution_count": 23,
      "outputs": [
        {
          "output_type": "stream",
          "name": "stdout",
          "text": [
            "EmployeeId  LastName  FirstName  Title                ReportsTo  BirthDate            HireDate             Address                      City        State  Country  PostalCode  Phone              Fax                Email                   \n",
            "----------  --------  ---------  -------------------  ---------  -------------------  -------------------  ---------------------------  ----------  -----  -------  ----------  -----------------  -----------------  ------------------------\n",
            "1           Adams     Andrew     General Manager                 1962-02-18 00:00:00  2002-08-14 00:00:00  11120 Jasper Ave NW          Edmonton    AB     Canada   T5K 2N1     +1 (780) 428-9482  +1 (780) 428-3457  andrew@chinookcorp.com  \n",
            "2           Edwards   Nancy      Sales Manager        1          1958-12-08 00:00:00  2002-05-01 00:00:00  825 8 Ave SW                 Calgary     AB     Canada   T2P 2T3     +1 (403) 262-3443  +1 (403) 262-3322  nancy@chinookcorp.com   \n",
            "3           Peacock   Jane       Sales Support Agent  2          1973-08-29 00:00:00  2002-04-01 00:00:00  1111 6 Ave SW                Calgary     AB     Canada   T2P 5M5     +1 (403) 262-3443  +1 (403) 262-6712  jane@chinookcorp.com    \n",
            "4           Park      Margaret   Sales Support Agent  2          1947-09-19 00:00:00  2003-05-03 00:00:00  683 10 Street SW             Calgary     AB     Canada   T2P 5G3     +1 (403) 263-4423  +1 (403) 263-4289  margaret@chinookcorp.com\n",
            "5           Johnson   Steve      Sales Support Agent  2          1965-03-03 00:00:00  2003-10-17 00:00:00  7727B 41 Ave                 Calgary     AB     Canada   T3B 1Y7     1 (780) 836-9987   1 (780) 836-9543   steve@chinookcorp.com   \n",
            "6           Mitchell  Michael    IT Manager           1          1973-07-01 00:00:00  2003-10-17 00:00:00  5827 Bowness Road NW         Calgary     AB     Canada   T3B 0C5     +1 (403) 246-9887  +1 (403) 246-9899  michael@chinookcorp.com \n",
            "7           King      Robert     IT Staff             6          1970-05-29 00:00:00  2004-01-02 00:00:00  590 Columbia Boulevard West  Lethbridge  AB     Canada   T1K 5N8     +1 (403) 456-9986  +1 (403) 456-8485  robert@chinookcorp.com  \n",
            "8           Callahan  Laura      IT Staff             6          1968-01-09 00:00:00  2004-03-04 00:00:00  923 7 ST NW                  Lethbridge  AB     Canada   T1H 1Y8     +1 (403) 467-3351  +1 (403) 467-8772  laura@chinookcorp.com   \n"
          ]
        }
      ]
    },
    {
      "cell_type": "markdown",
      "source": [
        "## Come up with questions about your data\n",
        "Have a look at the Entity-Relation ( ER ) diagram to help come up with questions.\n",
        "\n",
        "* What sort of information is in this dataset?\n",
        "* How many records are there?\n",
        "* How many different countries (states, counties, cities, etc) have records in this data set?\n",
        "\n",
        "\n",
        "If you are stuck, here are some ideas for questions:\n",
        "- https://github.com/LucasMcL/15-sql_queries_02-chinook/blob/master/README.md\n",
        "- [Using the R language]( https://rpubs.com/enext777/636199 )\n",
        "- [Search Google]( https://www.google.com/search?q=chinook+database+questions )\n",
        "\n"
      ],
      "metadata": {
        "id": "OA9Mp38s52x2"
      }
    },
    {
      "cell_type": "markdown",
      "source": [
        "Questions:\n",
        "\n",
        "1.   What kind of information does this dataset store?\n",
        "2.   How many records are in each table?\n",
        "3.   What are the primary and foreign keys in the database?\n",
        "4.   Which customer has made the highest number of purchases?\n",
        "5.   How are the tables related to each other?\n",
        "6.   How many unique customers are in the database?\n",
        "7.   What are the total sales in the database?\n",
        "8.   How many different countries, states, or cities are represented in the customer data?\n",
        "9.   How many tracks are in the database?\n",
        "10.  What is the total duration of all tracks in hours?\n",
        "\n",
        "\n",
        "\n",
        "\n",
        "\n",
        "\n",
        "\n",
        "\n"
      ],
      "metadata": {
        "id": "7mP52rEGKrNb"
      }
    },
    {
      "cell_type": "markdown",
      "source": [
        "## Use SQL queries to pull specific information\n",
        "\n",
        "Do NOT pull all the data and then filter using DataFrame methods etc. Make sure and use AT LEAST 13 of the 15 SQL options listed below. (You may have to get creative and come up with more questions to ask/answer.)\n"
      ],
      "metadata": {
        "id": "TqvaIfog546s"
      }
    },
    {
      "cell_type": "markdown",
      "source": [
        "### Basic Queries\n"
      ],
      "metadata": {
        "id": "borajWvCtRtl"
      }
    },
    {
      "cell_type": "markdown",
      "source": [
        "#### SELECT (with * and with column names)\n"
      ],
      "metadata": {
        "id": "gIEIK51EthwM"
      }
    },
    {
      "cell_type": "code",
      "source": [
        "#Provide a query showing details of all employees\n",
        "%%script sqlite3 --column --header chinook.db\n",
        "select *\n",
        "from employees\n"
      ],
      "metadata": {
        "id": "YmICVUnVuBSQ",
        "outputId": "6dc16c95-a866-4359-a811-6d41f0bce0af",
        "colab": {
          "base_uri": "https://localhost:8080/"
        }
      },
      "execution_count": 24,
      "outputs": [
        {
          "output_type": "stream",
          "name": "stdout",
          "text": [
            "EmployeeId  LastName  FirstName  Title                ReportsTo  BirthDate            HireDate             Address                      City        State  Country  PostalCode  Phone              Fax                Email                   \n",
            "----------  --------  ---------  -------------------  ---------  -------------------  -------------------  ---------------------------  ----------  -----  -------  ----------  -----------------  -----------------  ------------------------\n",
            "1           Adams     Andrew     General Manager                 1962-02-18 00:00:00  2002-08-14 00:00:00  11120 Jasper Ave NW          Edmonton    AB     Canada   T5K 2N1     +1 (780) 428-9482  +1 (780) 428-3457  andrew@chinookcorp.com  \n",
            "2           Edwards   Nancy      Sales Manager        1          1958-12-08 00:00:00  2002-05-01 00:00:00  825 8 Ave SW                 Calgary     AB     Canada   T2P 2T3     +1 (403) 262-3443  +1 (403) 262-3322  nancy@chinookcorp.com   \n",
            "3           Peacock   Jane       Sales Support Agent  2          1973-08-29 00:00:00  2002-04-01 00:00:00  1111 6 Ave SW                Calgary     AB     Canada   T2P 5M5     +1 (403) 262-3443  +1 (403) 262-6712  jane@chinookcorp.com    \n",
            "4           Park      Margaret   Sales Support Agent  2          1947-09-19 00:00:00  2003-05-03 00:00:00  683 10 Street SW             Calgary     AB     Canada   T2P 5G3     +1 (403) 263-4423  +1 (403) 263-4289  margaret@chinookcorp.com\n",
            "5           Johnson   Steve      Sales Support Agent  2          1965-03-03 00:00:00  2003-10-17 00:00:00  7727B 41 Ave                 Calgary     AB     Canada   T3B 1Y7     1 (780) 836-9987   1 (780) 836-9543   steve@chinookcorp.com   \n",
            "6           Mitchell  Michael    IT Manager           1          1973-07-01 00:00:00  2003-10-17 00:00:00  5827 Bowness Road NW         Calgary     AB     Canada   T3B 0C5     +1 (403) 246-9887  +1 (403) 246-9899  michael@chinookcorp.com \n",
            "7           King      Robert     IT Staff             6          1970-05-29 00:00:00  2004-01-02 00:00:00  590 Columbia Boulevard West  Lethbridge  AB     Canada   T1K 5N8     +1 (403) 456-9986  +1 (403) 456-8485  robert@chinookcorp.com  \n",
            "8           Callahan  Laura      IT Staff             6          1968-01-09 00:00:00  2004-03-04 00:00:00  923 7 ST NW                  Lethbridge  AB     Canada   T1H 1Y8     +1 (403) 467-3351  +1 (403) 467-8772  laura@chinookcorp.com   \n"
          ]
        }
      ]
    },
    {
      "cell_type": "code",
      "source": [
        "#Provide a query showing FirstName,LastName,City,BirthDate of all employees\n",
        "%%script sqlite3 --column --header chinook.db\n",
        "select FirstName,LastName,City,BirthDate from employees"
      ],
      "metadata": {
        "id": "8slKgFpsuBCh",
        "outputId": "350b08a6-7f5a-42f1-c3a2-3047d2022ff6",
        "colab": {
          "base_uri": "https://localhost:8080/"
        }
      },
      "execution_count": 25,
      "outputs": [
        {
          "output_type": "stream",
          "name": "stdout",
          "text": [
            "FirstName  LastName  City        BirthDate          \n",
            "---------  --------  ----------  -------------------\n",
            "Andrew     Adams     Edmonton    1962-02-18 00:00:00\n",
            "Nancy      Edwards   Calgary     1958-12-08 00:00:00\n",
            "Jane       Peacock   Calgary     1973-08-29 00:00:00\n",
            "Margaret   Park      Calgary     1947-09-19 00:00:00\n",
            "Steve      Johnson   Calgary     1965-03-03 00:00:00\n",
            "Michael    Mitchell  Calgary     1973-07-01 00:00:00\n",
            "Robert     King      Lethbridge  1970-05-29 00:00:00\n",
            "Laura      Callahan  Lethbridge  1968-01-09 00:00:00\n"
          ]
        }
      ]
    },
    {
      "cell_type": "markdown",
      "source": [
        "#### WHERE\n"
      ],
      "metadata": {
        "id": "dRvXfTGEtkdQ"
      }
    },
    {
      "cell_type": "code",
      "source": [
        "#Provide a query showing the details of employees who belongs to the city 'Lethbridge'\n",
        "%%script sqlite3 --column --header chinook.db\n",
        "Select * from employees where City='Lethbridge'"
      ],
      "metadata": {
        "id": "0oNobfUnt_4Z",
        "outputId": "48f23168-ab72-421c-d132-4b2f2510505f",
        "colab": {
          "base_uri": "https://localhost:8080/"
        }
      },
      "execution_count": 26,
      "outputs": [
        {
          "output_type": "stream",
          "name": "stdout",
          "text": [
            "EmployeeId  LastName  FirstName  Title     ReportsTo  BirthDate            HireDate             Address                      City        State  Country  PostalCode  Phone              Fax                Email                 \n",
            "----------  --------  ---------  --------  ---------  -------------------  -------------------  ---------------------------  ----------  -----  -------  ----------  -----------------  -----------------  ----------------------\n",
            "7           King      Robert     IT Staff  6          1970-05-29 00:00:00  2004-01-02 00:00:00  590 Columbia Boulevard West  Lethbridge  AB     Canada   T1K 5N8     +1 (403) 456-9986  +1 (403) 456-8485  robert@chinookcorp.com\n",
            "8           Callahan  Laura      IT Staff  6          1968-01-09 00:00:00  2004-03-04 00:00:00  923 7 ST NW                  Lethbridge  AB     Canada   T1H 1Y8     +1 (403) 467-3351  +1 (403) 467-8772  laura@chinookcorp.com \n"
          ]
        }
      ]
    },
    {
      "cell_type": "code",
      "source": [
        "  #Provide a query showing the Invoices of customers who are from Brazil. The resultant table should show the customer's full name, Invoice ID, Date of the invoice and billing country.\n",
        "%%script sqlite3 --column --header chinook.db\n",
        "Select c.[FirstName]\n",
        "      ,c.[LastName],i.[InvoiceId],i.[InvoiceDate],i.[BillingCountry] from invoices i left join customers c on i.[CustomerId]=c.[CustomerId] where i.[BillingCountry]='Brazil'"
      ],
      "metadata": {
        "id": "IILYauMcsNEf",
        "outputId": "5f444ada-baa4-4163-9c7f-83c2ad7dd671",
        "colab": {
          "base_uri": "https://localhost:8080/"
        }
      },
      "execution_count": 27,
      "outputs": [
        {
          "output_type": "stream",
          "name": "stdout",
          "text": [
            "FirstName  LastName   InvoiceId  InvoiceDate          BillingCountry\n",
            "---------  ---------  ---------  -------------------  --------------\n",
            "Eduardo    Martins    25         2009-04-09 00:00:00  Brazil        \n",
            "Roberto    Almeida    34         2009-05-23 00:00:00  Brazil        \n",
            "Fernanda   Ramos      35         2009-06-05 00:00:00  Brazil        \n",
            "Alexandre  Rocha      57         2009-09-06 00:00:00  Brazil        \n",
            "Fernanda   Ramos      58         2009-09-07 00:00:00  Brazil        \n",
            "Alexandre  Rocha      68         2009-10-17 00:00:00  Brazil        \n",
            "Fernanda   Ramos      80         2009-12-10 00:00:00  Brazil        \n",
            "Luís       Gonçalves  98         2010-03-11 00:00:00  Brazil        \n",
            "Luís       Gonçalves  121        2010-06-13 00:00:00  Brazil        \n",
            "Alexandre  Rocha      123        2010-06-17 00:00:00  Brazil        \n",
            "Fernanda   Ramos      132        2010-07-31 00:00:00  Brazil        \n",
            "Luís       Gonçalves  143        2010-09-15 00:00:00  Brazil        \n",
            "Eduardo    Martins    154        2010-11-14 00:00:00  Brazil        \n",
            "Roberto    Almeida    155        2010-11-14 00:00:00  Brazil        \n",
            "Roberto    Almeida    166        2010-12-25 00:00:00  Brazil        \n",
            "Eduardo    Martins    177        2011-02-16 00:00:00  Brazil        \n",
            "Luís       Gonçalves  195        2011-05-06 00:00:00  Brazil        \n",
            "Eduardo    Martins    199        2011-05-21 00:00:00  Brazil        \n",
            "Roberto    Almeida    221        2011-08-25 00:00:00  Brazil        \n",
            "Eduardo    Martins    251        2012-01-09 00:00:00  Brazil        \n",
            "Alexandre  Rocha      252        2012-01-22 00:00:00  Brazil        \n",
            "Fernanda   Ramos      253        2012-01-22 00:00:00  Brazil        \n",
            "Fernanda   Ramos      264        2012-03-03 00:00:00  Brazil        \n",
            "Alexandre  Rocha      275        2012-04-25 00:00:00  Brazil        \n",
            "Alexandre  Rocha      297        2012-07-28 00:00:00  Brazil        \n",
            "Luís       Gonçalves  316        2012-10-27 00:00:00  Brazil        \n",
            "Fernanda   Ramos      319        2012-11-01 00:00:00  Brazil        \n",
            "Luís       Gonçalves  327        2012-12-07 00:00:00  Brazil        \n",
            "Alexandre  Rocha      349        2013-03-18 00:00:00  Brazil        \n",
            "Roberto    Almeida    350        2013-03-31 00:00:00  Brazil        \n",
            "Eduardo    Martins    372        2013-07-02 00:00:00  Brazil        \n",
            "Roberto    Almeida    373        2013-07-03 00:00:00  Brazil        \n",
            "Luís       Gonçalves  382        2013-08-07 00:00:00  Brazil        \n",
            "Eduardo    Martins    383        2013-08-12 00:00:00  Brazil        \n",
            "Roberto    Almeida    395        2013-10-05 00:00:00  Brazil        \n"
          ]
        }
      ]
    },
    {
      "cell_type": "markdown",
      "source": [
        "#### AND\n"
      ],
      "metadata": {
        "id": "u5y_3d4GtlqN"
      }
    },
    {
      "cell_type": "code",
      "source": [
        "#Provide a query showing the details of customers who are from USA and works in Google Inc.\n",
        "%%script sqlite3 --column --header chinook.db\n",
        "Select [FirstName]\n",
        "      ,[LastName]\n",
        "      ,[Company] ,[City]\n",
        "      ,[State]\n",
        "      ,[Country]  FROM [Customers] where [Country]='USA' and [Company]='Google Inc.'"
      ],
      "metadata": {
        "id": "H1tgAAFtt_Yy",
        "colab": {
          "base_uri": "https://localhost:8080/"
        },
        "outputId": "b583171a-61c4-405f-d608-97bd301b6ef6"
      },
      "execution_count": 28,
      "outputs": [
        {
          "output_type": "stream",
          "name": "stdout",
          "text": [
            "FirstName  LastName  Company      City           State  Country\n",
            "---------  --------  -----------  -------------  -----  -------\n",
            "Frank      Harris    Google Inc.  Mountain View  CA     USA    \n"
          ]
        }
      ]
    },
    {
      "cell_type": "markdown",
      "source": [
        "#### OR\n"
      ],
      "metadata": {
        "id": "fddyzEAetnzB"
      }
    },
    {
      "cell_type": "code",
      "source": [
        "#Provide a query showing the details of employees who belongs to the city'Calgary' or 'Edmonton'\n",
        "%%script sqlite3 --column --header chinook.db\n",
        "Select * FROM [Employees] where [City]='Calgary' or [City]='Edmonton'"
      ],
      "metadata": {
        "id": "HAg8LDQ3t-yr",
        "colab": {
          "base_uri": "https://localhost:8080/"
        },
        "outputId": "0db68d82-1ea8-4eb7-fe87-f73088800b68"
      },
      "execution_count": 29,
      "outputs": [
        {
          "output_type": "stream",
          "name": "stdout",
          "text": [
            "EmployeeId  LastName  FirstName  Title                ReportsTo  BirthDate            HireDate             Address               City      State  Country  PostalCode  Phone              Fax                Email                   \n",
            "----------  --------  ---------  -------------------  ---------  -------------------  -------------------  --------------------  --------  -----  -------  ----------  -----------------  -----------------  ------------------------\n",
            "1           Adams     Andrew     General Manager                 1962-02-18 00:00:00  2002-08-14 00:00:00  11120 Jasper Ave NW   Edmonton  AB     Canada   T5K 2N1     +1 (780) 428-9482  +1 (780) 428-3457  andrew@chinookcorp.com  \n",
            "2           Edwards   Nancy      Sales Manager        1          1958-12-08 00:00:00  2002-05-01 00:00:00  825 8 Ave SW          Calgary   AB     Canada   T2P 2T3     +1 (403) 262-3443  +1 (403) 262-3322  nancy@chinookcorp.com   \n",
            "3           Peacock   Jane       Sales Support Agent  2          1973-08-29 00:00:00  2002-04-01 00:00:00  1111 6 Ave SW         Calgary   AB     Canada   T2P 5M5     +1 (403) 262-3443  +1 (403) 262-6712  jane@chinookcorp.com    \n",
            "4           Park      Margaret   Sales Support Agent  2          1947-09-19 00:00:00  2003-05-03 00:00:00  683 10 Street SW      Calgary   AB     Canada   T2P 5G3     +1 (403) 263-4423  +1 (403) 263-4289  margaret@chinookcorp.com\n",
            "5           Johnson   Steve      Sales Support Agent  2          1965-03-03 00:00:00  2003-10-17 00:00:00  7727B 41 Ave          Calgary   AB     Canada   T3B 1Y7     1 (780) 836-9987   1 (780) 836-9543   steve@chinookcorp.com   \n",
            "6           Mitchell  Michael    IT Manager           1          1973-07-01 00:00:00  2003-10-17 00:00:00  5827 Bowness Road NW  Calgary   AB     Canada   T3B 0C5     +1 (403) 246-9887  +1 (403) 246-9899  michael@chinookcorp.com \n"
          ]
        }
      ]
    },
    {
      "cell_type": "markdown",
      "source": [
        "#### LIKE (with % or _ wildcard)\n"
      ],
      "metadata": {
        "id": "-csoeatGtpRq"
      }
    },
    {
      "cell_type": "code",
      "source": [
        "#Provide a query showing the details of employees whose name starts with A\n",
        "%%script sqlite3 --column --header chinook.db\n",
        "Select * FROM [Employees] where FirstName like 'A%'"
      ],
      "metadata": {
        "id": "UB3EyaRRt9ki",
        "colab": {
          "base_uri": "https://localhost:8080/"
        },
        "outputId": "963f956e-273b-484a-a624-9c7ce0c179d4"
      },
      "execution_count": 30,
      "outputs": [
        {
          "output_type": "stream",
          "name": "stdout",
          "text": [
            "EmployeeId  LastName  FirstName  Title            ReportsTo  BirthDate            HireDate             Address              City      State  Country  PostalCode  Phone              Fax                Email                 \n",
            "----------  --------  ---------  ---------------  ---------  -------------------  -------------------  -------------------  --------  -----  -------  ----------  -----------------  -----------------  ----------------------\n",
            "1           Adams     Andrew     General Manager             1962-02-18 00:00:00  2002-08-14 00:00:00  11120 Jasper Ave NW  Edmonton  AB     Canada   T5K 2N1     +1 (780) 428-9482  +1 (780) 428-3457  andrew@chinookcorp.com\n"
          ]
        }
      ]
    },
    {
      "cell_type": "code",
      "source": [
        "#Provide a query showing the details of employees whose name ends with 'ark' with exactly one letter before it\n",
        "%%script sqlite3 --column --header chinook.db\n",
        "Select * FROM [Employees] where LastName like '_ark'"
      ],
      "metadata": {
        "colab": {
          "base_uri": "https://localhost:8080/"
        },
        "id": "VMIdMaKd1lnX",
        "outputId": "5234ed7d-efe9-4d75-c65b-4917325c65c9"
      },
      "execution_count": 31,
      "outputs": [
        {
          "output_type": "stream",
          "name": "stdout",
          "text": [
            "EmployeeId  LastName  FirstName  Title                ReportsTo  BirthDate            HireDate             Address           City     State  Country  PostalCode  Phone              Fax                Email                   \n",
            "----------  --------  ---------  -------------------  ---------  -------------------  -------------------  ----------------  -------  -----  -------  ----------  -----------------  -----------------  ------------------------\n",
            "4           Park      Margaret   Sales Support Agent  2          1947-09-19 00:00:00  2003-05-03 00:00:00  683 10 Street SW  Calgary  AB     Canada   T2P 5G3     +1 (403) 263-4423  +1 (403) 263-4289  margaret@chinookcorp.com\n"
          ]
        }
      ]
    },
    {
      "cell_type": "markdown",
      "source": [
        "#### BETWEEN\n"
      ],
      "metadata": {
        "id": "BV8kQ-9FtqGY"
      }
    },
    {
      "cell_type": "code",
      "source": [
        "#Provide a query to filter the invoice details for the year 2010\n",
        "%%script sqlite3 --column --header chinook.db\n",
        "SELECT  *\n",
        "FROM Invoices WHERE InvoiceDate between '2010-01-01 00:00:00' and '2010-12-31 00:00:00' limit 50;\n",
        "\n"
      ],
      "metadata": {
        "id": "AAMkUyW6t9IR",
        "colab": {
          "base_uri": "https://localhost:8080/"
        },
        "outputId": "c297ef85-fdbf-4874-b94e-7bdca43821ea"
      },
      "execution_count": 32,
      "outputs": [
        {
          "output_type": "stream",
          "name": "stdout",
          "text": [
            "InvoiceId  CustomerId  InvoiceDate          BillingAddress                            BillingCity          BillingState  BillingCountry  BillingPostalCode  Total\n",
            "---------  ----------  -------------------  ----------------------------------------  -------------------  ------------  --------------  -----------------  -----\n",
            "84         43          2010-01-08 00:00:00  68, Rue Jouvence                          Dijon                              France          21000              1.98 \n",
            "85         45          2010-01-08 00:00:00  Erzsébet krt. 58.                         Budapest                           Hungary         H-1073             1.98 \n",
            "86         47          2010-01-09 00:00:00  Via Degli Scipioni, 43                    Rome                 RM            Italy           00192              3.96 \n",
            "87         51          2010-01-10 00:00:00  Celsiusg. 9                               Stockholm                          Sweden          11230              6.94 \n",
            "88         57          2010-01-13 00:00:00  Calle Lira, 198                           Santiago                           Chile                              17.91\n",
            "89         7           2010-01-18 00:00:00  Rotenturmstraße 4, 1010 Innere Stadt      Vienne                             Austria         1010               18.86\n",
            "90         21          2010-01-26 00:00:00  801 W 4th Street                          Reno                 NV            USA             89503              0.99 \n",
            "91         22          2010-02-08 00:00:00  120 S Orange Ave                          Orlando              FL            USA             32801              1.98 \n",
            "92         24          2010-02-08 00:00:00  162 E Superior Street                     Chicago              IL            USA             60611              1.98 \n",
            "93         26          2010-02-09 00:00:00  2211 W Berry Street                       Fort Worth           TX            USA             76110              3.96 \n",
            "94         30          2010-02-10 00:00:00  230 Elgin Street                          Ottawa               ON            Canada          K2P 1L7            5.94 \n",
            "95         36          2010-02-13 00:00:00  Tauentzienstraße 8                        Berlin                             Germany         10789              8.91 \n",
            "96         45          2010-02-18 00:00:00  Erzsébet krt. 58.                         Budapest                           Hungary         H-1073             21.86\n",
            "97         59          2010-02-26 00:00:00  3,Raj Bhavan Road                         Bangalore                          India           560001             1.99 \n",
            "98         1           2010-03-11 00:00:00  Av. Brigadeiro Faria Lima, 2170           São José dos Campos  SP            Brazil          12227-000          3.98 \n",
            "99         3           2010-03-11 00:00:00  1498 rue Bélanger                         Montréal             QC            Canada          H2G 1A7            3.98 \n",
            "100        5           2010-03-12 00:00:00  Klanova 9/506                             Prague                             Czech Republic  14700              3.96 \n",
            "101        9           2010-03-13 00:00:00  Sønder Boulevard 51                       Copenhagen                         Denmark         1720               5.94 \n",
            "102        15          2010-03-16 00:00:00  700 W Pender Street                       Vancouver            BC            Canada          V6C 1G8            9.91 \n",
            "103        24          2010-03-21 00:00:00  162 E Superior Street                     Chicago              IL            USA             60611              15.86\n",
            "104        38          2010-03-29 00:00:00  Barbarossastraße 19                       Berlin                             Germany         10779              0.99 \n",
            "105        39          2010-04-11 00:00:00  4, Rue Milton                             Paris                              France          75009              1.98 \n",
            "106        41          2010-04-11 00:00:00  11, Place Bellecour                       Lyon                               France          69002              1.98 \n",
            "107        43          2010-04-12 00:00:00  68, Rue Jouvence                          Dijon                              France          21000              3.96 \n",
            "108        47          2010-04-13 00:00:00  Via Degli Scipioni, 43                    Rome                 RM            Italy           00192              5.94 \n",
            "109        53          2010-04-16 00:00:00  113 Lupus St                              London                             United Kingdom  SW1V 3EN           8.91 \n",
            "110        3           2010-04-21 00:00:00  1498 rue Bélanger                         Montréal             QC            Canada          H2G 1A7            13.86\n",
            "111        17          2010-04-29 00:00:00  1 Microsoft Way                           Redmond              WA            USA             98052-8300         0.99 \n",
            "112        18          2010-05-12 00:00:00  627 Broadway                              New York             NY            USA             10012-2612         1.98 \n",
            "113        20          2010-05-12 00:00:00  541 Del Medio Avenue                      Mountain View        CA            USA             94040-111          1.98 \n",
            "114        22          2010-05-13 00:00:00  120 S Orange Ave                          Orlando              FL            USA             32801              3.96 \n",
            "115        26          2010-05-14 00:00:00  2211 W Berry Street                       Fort Worth           TX            USA             76110              5.94 \n",
            "116        32          2010-05-17 00:00:00  696 Osborne Street                        Winnipeg             MB            Canada          R3L 2B9            8.91 \n",
            "117        41          2010-05-22 00:00:00  11, Place Bellecour                       Lyon                               France          69002              13.86\n",
            "118        55          2010-05-30 00:00:00  421 Bourke Street                         Sidney               NSW           Australia       2010               0.99 \n",
            "119        56          2010-06-12 00:00:00  307 Macacha Güemes                        Buenos Aires                       Argentina       1106               1.98 \n",
            "120        58          2010-06-12 00:00:00  12,Community Centre                       Delhi                              India           110017             1.98 \n",
            "121        1           2010-06-13 00:00:00  Av. Brigadeiro Faria Lima, 2170           São José dos Campos  SP            Brazil          12227-000          3.96 \n",
            "122        5           2010-06-14 00:00:00  Klanova 9/506                             Prague                             Czech Republic  14700              5.94 \n",
            "123        11          2010-06-17 00:00:00  Av. Paulista, 2022                        São Paulo            SP            Brazil          01310-200          8.91 \n",
            "124        20          2010-06-22 00:00:00  541 Del Medio Avenue                      Mountain View        CA            USA             94040-111          13.86\n",
            "125        34          2010-06-30 00:00:00  Rua da Assunção 53                        Lisbon                             Portugal                           0.99 \n",
            "126        35          2010-07-13 00:00:00  Rua dos Campeões Europeus de Viena, 4350  Porto                              Portugal                           1.98 \n",
            "127        37          2010-07-13 00:00:00  Berger Straße 10                          Frankfurt                          Germany         60316              1.98 \n",
            "128        39          2010-07-14 00:00:00  4, Rue Milton                             Paris                              France          75009              3.96 \n",
            "129        43          2010-07-15 00:00:00  68, Rue Jouvence                          Dijon                              France          21000              5.94 \n",
            "130        49          2010-07-18 00:00:00  Ordynacka 10                              Warsaw                             Poland          00-358             8.91 \n",
            "131        58          2010-07-23 00:00:00  12,Community Centre                       Delhi                              India           110017             13.86\n",
            "132        13          2010-07-31 00:00:00  Qe 7 Bloco G                              Brasília             DF            Brazil          71020-677          0.99 \n",
            "133        14          2010-08-13 00:00:00  8210 111 ST NW                            Edmonton             AB            Canada          T6G 2C7            1.98 \n"
          ]
        }
      ]
    },
    {
      "cell_type": "markdown",
      "source": [
        "#### LIMIT\n",
        "\n"
      ],
      "metadata": {
        "id": "3BqrCUPBtqpX"
      }
    },
    {
      "cell_type": "code",
      "source": [
        "#Fetch the top 10 records of invoices table\n",
        "%%script sqlite3 --column --header chinook.db\n",
        "Select * from invoices limit 10"
      ],
      "metadata": {
        "id": "CixJguOYuw49",
        "colab": {
          "base_uri": "https://localhost:8080/"
        },
        "outputId": "022305a7-f0bc-498c-9af5-2380aaec12f2"
      },
      "execution_count": 33,
      "outputs": [
        {
          "output_type": "stream",
          "name": "stdout",
          "text": [
            "InvoiceId  CustomerId  InvoiceDate          BillingAddress           BillingCity  BillingState  BillingCountry  BillingPostalCode  Total\n",
            "---------  ----------  -------------------  -----------------------  -----------  ------------  --------------  -----------------  -----\n",
            "1          2           2009-01-01 00:00:00  Theodor-Heuss-Straße 34  Stuttgart                  Germany         70174              1.98 \n",
            "2          4           2009-01-02 00:00:00  Ullevålsveien 14         Oslo                       Norway          0171               3.96 \n",
            "3          8           2009-01-03 00:00:00  Grétrystraat 63          Brussels                   Belgium         1000               5.94 \n",
            "4          14          2009-01-06 00:00:00  8210 111 ST NW           Edmonton     AB            Canada          T6G 2C7            8.91 \n",
            "5          23          2009-01-11 00:00:00  69 Salem Street          Boston       MA            USA             2113               13.86\n",
            "6          37          2009-01-19 00:00:00  Berger Straße 10         Frankfurt                  Germany         60316              0.99 \n",
            "7          38          2009-02-01 00:00:00  Barbarossastraße 19      Berlin                     Germany         10779              1.98 \n",
            "8          40          2009-02-01 00:00:00  8, Rue Hanovre           Paris                      France          75002              1.98 \n",
            "9          42          2009-02-02 00:00:00  9, Place Louis Barthou   Bordeaux                   France          33000              3.96 \n",
            "10         46          2009-02-03 00:00:00  3 Chatham Street         Dublin       Dublin        Ireland                            5.94 \n"
          ]
        }
      ]
    },
    {
      "cell_type": "markdown",
      "source": [
        "### Sorting and Grouping\n"
      ],
      "metadata": {
        "id": "a4DtPW7ytrU7"
      }
    },
    {
      "cell_type": "markdown",
      "source": [
        "#### ORDER BY\n"
      ],
      "metadata": {
        "id": "SneUyw4Xtr-U"
      }
    },
    {
      "cell_type": "code",
      "source": [
        "#Fetch the top 50 records of invoices table by sorting on the basis of date in ascending order\n",
        "%%script sqlite3 --column --header chinook.db\n",
        "Select * from invoices order by InvoiceDate asc limit 20"
      ],
      "metadata": {
        "id": "29jQ-pBFt7uf",
        "colab": {
          "base_uri": "https://localhost:8080/"
        },
        "outputId": "b673b820-9ff3-468d-b07e-fdf4797c3b43"
      },
      "execution_count": 34,
      "outputs": [
        {
          "output_type": "stream",
          "name": "stdout",
          "text": [
            "InvoiceId  CustomerId  InvoiceDate          BillingAddress             BillingCity    BillingState  BillingCountry  BillingPostalCode  Total\n",
            "---------  ----------  -------------------  -------------------------  -------------  ------------  --------------  -----------------  -----\n",
            "1          2           2009-01-01 00:00:00  Theodor-Heuss-Straße 34    Stuttgart                    Germany         70174              1.98 \n",
            "2          4           2009-01-02 00:00:00  Ullevålsveien 14           Oslo                         Norway          0171               3.96 \n",
            "3          8           2009-01-03 00:00:00  Grétrystraat 63            Brussels                     Belgium         1000               5.94 \n",
            "4          14          2009-01-06 00:00:00  8210 111 ST NW             Edmonton       AB            Canada          T6G 2C7            8.91 \n",
            "5          23          2009-01-11 00:00:00  69 Salem Street            Boston         MA            USA             2113               13.86\n",
            "6          37          2009-01-19 00:00:00  Berger Straße 10           Frankfurt                    Germany         60316              0.99 \n",
            "7          38          2009-02-01 00:00:00  Barbarossastraße 19        Berlin                       Germany         10779              1.98 \n",
            "8          40          2009-02-01 00:00:00  8, Rue Hanovre             Paris                        France          75002              1.98 \n",
            "9          42          2009-02-02 00:00:00  9, Place Louis Barthou     Bordeaux                     France          33000              3.96 \n",
            "10         46          2009-02-03 00:00:00  3 Chatham Street           Dublin         Dublin        Ireland                            5.94 \n",
            "11         52          2009-02-06 00:00:00  202 Hoxton Street          London                       United Kingdom  N1 5LH             8.91 \n",
            "12         2           2009-02-11 00:00:00  Theodor-Heuss-Straße 34    Stuttgart                    Germany         70174              13.86\n",
            "13         16          2009-02-19 00:00:00  1600 Amphitheatre Parkway  Mountain View  CA            USA             94043-1351         0.99 \n",
            "14         17          2009-03-04 00:00:00  1 Microsoft Way            Redmond        WA            USA             98052-8300         1.98 \n",
            "15         19          2009-03-04 00:00:00  1 Infinite Loop            Cupertino      CA            USA             95014              1.98 \n",
            "16         21          2009-03-05 00:00:00  801 W 4th Street           Reno           NV            USA             89503              3.96 \n",
            "17         25          2009-03-06 00:00:00  319 N. Frances Street      Madison        WI            USA             53703              5.94 \n",
            "18         31          2009-03-09 00:00:00  194A Chain Lake Drive      Halifax        NS            Canada          B3S 1C5            8.91 \n",
            "19         40          2009-03-14 00:00:00  8, Rue Hanovre             Paris                        France          75002              13.86\n",
            "20         54          2009-03-22 00:00:00  110 Raeburn Pl             Edinburgh                    United Kingdom  EH4 1HH            0.99 \n"
          ]
        }
      ]
    },
    {
      "cell_type": "markdown",
      "source": [
        "#### DISTINCT\n"
      ],
      "metadata": {
        "id": "Y22yRW5Wtsl1"
      }
    },
    {
      "cell_type": "code",
      "source": [
        "#Provide a query to fetch the distinct countries from Customers table\n",
        "%%script sqlite3 --column --header chinook.db\n",
        "Select distinct(Country) from Customers"
      ],
      "metadata": {
        "id": "RGkf7Qh1t7Cm",
        "colab": {
          "base_uri": "https://localhost:8080/"
        },
        "outputId": "95c136a2-92d6-4938-9893-2f85f5ba4698"
      },
      "execution_count": 35,
      "outputs": [
        {
          "output_type": "stream",
          "name": "stdout",
          "text": [
            "Country       \n",
            "--------------\n",
            "Brazil        \n",
            "Germany       \n",
            "Canada        \n",
            "Norway        \n",
            "Czech Republic\n",
            "Austria       \n",
            "Belgium       \n",
            "Denmark       \n",
            "USA           \n",
            "Portugal      \n",
            "France        \n",
            "Finland       \n",
            "Hungary       \n",
            "Ireland       \n",
            "Italy         \n",
            "Netherlands   \n",
            "Poland        \n",
            "Spain         \n",
            "Sweden        \n",
            "United Kingdom\n",
            "Australia     \n",
            "Argentina     \n",
            "Chile         \n",
            "India         \n"
          ]
        }
      ]
    },
    {
      "cell_type": "markdown",
      "source": [
        "#### GROUP BY\n",
        "\n"
      ],
      "metadata": {
        "id": "Q0mwAOgettPz"
      }
    },
    {
      "cell_type": "code",
      "source": [
        "%%script sqlite3 --column --header chinook.db\n",
        "Select BillingCountry,sum(Total) as InvoiceTotal from invoices group by BillingCountry order by InvoiceTotal desc"
      ],
      "metadata": {
        "id": "8cv2_l-Lt6Wv",
        "colab": {
          "base_uri": "https://localhost:8080/"
        },
        "outputId": "6bbf33ba-d3ab-48f1-8dcf-342ce6877156"
      },
      "execution_count": 36,
      "outputs": [
        {
          "output_type": "stream",
          "name": "stdout",
          "text": [
            "BillingCountry  InvoiceTotal\n",
            "--------------  ------------\n",
            "USA             523.06      \n",
            "Canada          303.96      \n",
            "France          195.1       \n",
            "Brazil          190.1       \n",
            "Germany         156.48      \n",
            "United Kingdom  112.86      \n",
            "Czech Republic  90.24       \n",
            "Portugal        77.24       \n",
            "India           75.26       \n",
            "Chile           46.62       \n",
            "Ireland         45.62       \n",
            "Hungary         45.62       \n",
            "Austria         42.62       \n",
            "Finland         41.62       \n",
            "Netherlands     40.62       \n",
            "Norway          39.62       \n",
            "Sweden          38.62       \n",
            "Poland          37.62       \n",
            "Italy           37.62       \n",
            "Denmark         37.62       \n",
            "Australia       37.62       \n",
            "Argentina       37.62       \n",
            "Spain           37.62       \n",
            "Belgium         37.62       \n"
          ]
        }
      ]
    },
    {
      "cell_type": "markdown",
      "source": [
        "### Aggregates\n"
      ],
      "metadata": {
        "id": "dJUO6Dh3tt5c"
      }
    },
    {
      "cell_type": "markdown",
      "source": [
        "#### MAX\n"
      ],
      "metadata": {
        "id": "spacz18MtvBo"
      }
    },
    {
      "cell_type": "code",
      "source": [
        "%%script sqlite3 --column --header chinook.db\n",
        "WITH InvoiceTotals AS (\n",
        "    SELECT BillingCountry, SUM(Total) AS InvoiceTotal\n",
        "    FROM Invoices\n",
        "    GROUP BY BillingCountry\n",
        ")\n",
        "SELECT BillingCountry, InvoiceTotal\n",
        "FROM InvoiceTotals\n",
        "WHERE InvoiceTotal = (SELECT MAX(InvoiceTotal) FROM InvoiceTotals);\n"
      ],
      "metadata": {
        "colab": {
          "base_uri": "https://localhost:8080/"
        },
        "id": "W1QHjRMpMGmr",
        "outputId": "87856339-6cf1-4617-ba9d-94ca682023a3"
      },
      "execution_count": 37,
      "outputs": [
        {
          "output_type": "stream",
          "name": "stdout",
          "text": [
            "BillingCountry  InvoiceTotal\n",
            "--------------  ------------\n",
            "USA             523.06      \n"
          ]
        }
      ]
    },
    {
      "cell_type": "markdown",
      "source": [
        "#### MIN\n"
      ],
      "metadata": {
        "id": "V0z33BTztvoP"
      }
    },
    {
      "cell_type": "code",
      "source": [
        "%%script sqlite3 --column --header chinook.db\n",
        "WITH InvoiceTotals AS (\n",
        "    SELECT BillingCountry, ROUND(SUM(Total), 2) AS InvoiceTotal\n",
        "    FROM Invoices\n",
        "    GROUP BY BillingCountry\n",
        ")\n",
        "SELECT BillingCountry, InvoiceTotal\n",
        "FROM InvoiceTotals\n",
        "WHERE InvoiceTotal = (SELECT MIN(InvoiceTotal) FROM InvoiceTotals);"
      ],
      "metadata": {
        "colab": {
          "base_uri": "https://localhost:8080/"
        },
        "id": "IMZb0OA-MOur",
        "outputId": "e9e24039-9afc-497c-979b-dfbc9cfcdaf5"
      },
      "execution_count": 38,
      "outputs": [
        {
          "output_type": "stream",
          "name": "stdout",
          "text": [
            "BillingCountry  InvoiceTotal\n",
            "--------------  ------------\n",
            "Argentina       37.62       \n",
            "Australia       37.62       \n",
            "Belgium         37.62       \n",
            "Denmark         37.62       \n",
            "Italy           37.62       \n",
            "Poland          37.62       \n",
            "Spain           37.62       \n"
          ]
        }
      ]
    },
    {
      "cell_type": "markdown",
      "source": [
        "#### SUM\n"
      ],
      "metadata": {
        "id": "nLYsB9M8twMf"
      }
    },
    {
      "cell_type": "code",
      "source": [
        "%%script sqlite3 --column --header chinook.db\n",
        "Select SUM(Total) from Invoices"
      ],
      "metadata": {
        "id": "aoVDwom0t0zN",
        "colab": {
          "base_uri": "https://localhost:8080/"
        },
        "outputId": "3e41fe27-00bf-4c53-80f2-ebb7c966097c"
      },
      "execution_count": 39,
      "outputs": [
        {
          "output_type": "stream",
          "name": "stdout",
          "text": [
            "SUM(Total)\n",
            "----------\n",
            "2328.6    \n"
          ]
        }
      ]
    },
    {
      "cell_type": "markdown",
      "source": [
        "#### AVG\n"
      ],
      "metadata": {
        "id": "0yI5K0Z5twwB"
      }
    },
    {
      "cell_type": "code",
      "source": [
        "%%script sqlite3 --column --header chinook.db\n",
        "Select AVG(Total) from Invoices"
      ],
      "metadata": {
        "id": "HkNbzJ4mtzgD",
        "colab": {
          "base_uri": "https://localhost:8080/"
        },
        "outputId": "3aa1a879-968f-4169-a1bc-6fda33bca86d"
      },
      "execution_count": 40,
      "outputs": [
        {
          "output_type": "stream",
          "name": "stdout",
          "text": [
            "AVG(Total)      \n",
            "----------------\n",
            "5.65194174757282\n"
          ]
        }
      ]
    },
    {
      "cell_type": "markdown",
      "source": [
        "#### COUNT\n",
        "\n"
      ],
      "metadata": {
        "id": "JEkDbYyutxX5"
      }
    },
    {
      "cell_type": "code",
      "source": [
        "%%script sqlite3 --column --header chinook.db\n",
        "Select count(*) from invoices where InvoiceDate between '2010-01-01 00:00:00' and '2010-12-31 00:00:00';\n"
      ],
      "metadata": {
        "id": "NMrvo0jE6LL9",
        "colab": {
          "base_uri": "https://localhost:8080/"
        },
        "outputId": "490cfb43-60af-4398-9e3c-b159216459d3"
      },
      "execution_count": 41,
      "outputs": [
        {
          "output_type": "stream",
          "name": "stdout",
          "text": [
            "count(*)\n",
            "--------\n",
            "83      \n"
          ]
        }
      ]
    },
    {
      "cell_type": "markdown",
      "source": [
        "## Make some plots\n",
        "\n",
        "Make some cool plots to go with your data. Write SQL queries to get ONLY the information you need for each plot. (Don't pull ALL the data and then just plot a few columns.)\n",
        "\n"
      ],
      "metadata": {
        "id": "ntL8dHJT57K8"
      }
    },
    {
      "cell_type": "code",
      "source": [
        "# Connect to a sqlite database and load a result set into a data frame\n",
        "conn = db.connect(\"chinook.db\")"
      ],
      "metadata": {
        "id": "wuoxfXGCfR67"
      },
      "execution_count": 42,
      "outputs": []
    },
    {
      "cell_type": "code",
      "source": [
        "# Query 1: Total Sales by Country\n",
        "query1 = \"\"\"\n",
        "    SELECT BillingCountry, SUM(Total) AS TotalSales\n",
        "    FROM invoices\n",
        "    GROUP BY BillingCountry\n",
        "    ORDER BY TotalSales DESC;\n",
        "\"\"\"\n",
        "df_sales_by_country = pd.read_sql_query(query1, conn)\n",
        "\n",
        "# Query 2: Top-Selling Genres\n",
        "query2 = \"\"\"\n",
        "    SELECT g.Name AS Genre, SUM(ii.Quantity) AS TotalSold\n",
        "    FROM invoice_items ii\n",
        "    JOIN tracks t ON ii.TrackId = t.TrackId\n",
        "    JOIN genres g ON t.GenreId = g.GenreId\n",
        "    GROUP BY g.Name\n",
        "    ORDER BY TotalSold DESC;\n",
        "\"\"\"\n",
        "df_top_genres = pd.read_sql_query(query2, conn)\n",
        "\n",
        "# Query 3: Revenue Trends Over Time\n",
        "query3 = \"\"\"\n",
        "    SELECT strftime('%Y', InvoiceDate) AS Year, SUM(Total) AS Revenue\n",
        "    FROM invoices\n",
        "    GROUP BY Year\n",
        "    ORDER BY Year;\n",
        "\"\"\"\n",
        "df_revenue_trends = pd.read_sql_query(query3, conn)\n",
        "\n",
        "# Query 4: Top 10 Best-Selling Artists\n",
        "query4 = \"\"\"\n",
        "    SELECT ar.Name AS Artist, SUM(ii.UnitPrice * ii.Quantity) AS Revenue\n",
        "    FROM invoice_items ii\n",
        "    JOIN tracks t ON ii.TrackId = t.TrackId\n",
        "    JOIN albums a ON t.AlbumId = a.AlbumId\n",
        "    JOIN artists ar ON a.ArtistId = ar.ArtistId\n",
        "    GROUP BY ar.Name\n",
        "    ORDER BY Revenue DESC\n",
        "    LIMIT 10;\n",
        "\"\"\"\n",
        "df_top_artists = pd.read_sql_query(query4, conn)\n",
        "\n",
        "# Close the connection\n",
        "#conn.close()\n",
        "\n",
        "# Create visualizations\n",
        "fig, axes = plt.subplots(2, 2, figsize=(14, 10))\n",
        "fig.suptitle(\"Chinook Database Insights\")\n",
        "\n",
        "# Plot 1: Total Sales by Country\n",
        "axes[0, 0].barh(df_sales_by_country[\"BillingCountry\"], df_sales_by_country[\"TotalSales\"], color='skyblue')\n",
        "axes[0, 0].set_xlabel(\"Total Sales ($)\")\n",
        "axes[0, 0].set_ylabel(\"Country\")\n",
        "axes[0, 0].set_title(\"Total Sales by Country\")\n",
        "\n",
        "# Plot 2: Top-Selling Genres\n",
        "axes[0, 1].bar(df_top_genres[\"Genre\"], df_top_genres[\"TotalSold\"], color='lightcoral')\n",
        "axes[0, 1].set_xlabel(\"Genre\")\n",
        "axes[0, 1].set_ylabel(\"Units Sold\")\n",
        "axes[0, 1].set_title(\"Top-Selling Genres\")\n",
        "axes[0, 1].tick_params(axis='x', rotation=70)\n",
        "\n",
        "# Plot 3: Revenue Trends Over Time\n",
        "axes[1, 0].plot(df_revenue_trends[\"Year\"], df_revenue_trends[\"Revenue\"], marker='o', linestyle='-', color='seagreen')\n",
        "axes[1, 0].set_xlabel(\"Year\")\n",
        "axes[1, 0].set_ylabel(\"Revenue ($)\")\n",
        "axes[1, 0].set_title(\"Revenue Trends Over Time\")\n",
        "\n",
        "# Plot 4: Top 10 Best-Selling Artists\n",
        "axes[1, 1].barh(df_top_artists[\"Artist\"], df_top_artists[\"Revenue\"], color='goldenrod')\n",
        "axes[1, 1].set_xlabel(\"Revenue ($)\")\n",
        "axes[1, 1].set_ylabel(\"Artist\")\n",
        "axes[1, 1].set_title(\"Top 10 Best-Selling Artists\")\n",
        "\n",
        "plt.tight_layout(rect=[0, 0, 1, 0.96])\n",
        "plt.show()"
      ],
      "metadata": {
        "id": "SZXIuqBX6L50",
        "colab": {
          "base_uri": "https://localhost:8080/",
          "height": 794
        },
        "outputId": "b03d8213-98f1-4058-d058-3adb7e67560d"
      },
      "execution_count": 43,
      "outputs": [
        {
          "output_type": "display_data",
          "data": {
            "text/plain": [
              "<Figure size 1400x1000 with 4 Axes>"
            ],
            "image/png": "[encoded data removed]"
          },
          "metadata": {}
        }
      ]
    },
    {
      "cell_type": "markdown",
      "source": [
        "## EXTRA CREDIT:\n",
        "* Use a CTE\n",
        "* Use a query that joins two or more tables.\n",
        "* Make a model to see if you can predict something\n",
        "* Come up with something else cool to do with your data\n"
      ],
      "metadata": {
        "id": "H6QrBn3n58mU"
      }
    },
    {
      "cell_type": "code",
      "source": [
        "# Query: Extract customer purchase behavior and invoice totals\n",
        "query = \"\"\"\n",
        "    SELECT c.CustomerId, c.Country, COUNT(i.InvoiceId) AS PurchaseFrequency,\n",
        "           AVG(i.Total) AS AvgOrderValue, SUM(i.Total) AS TotalSpent\n",
        "    FROM customers c\n",
        "    JOIN invoices i ON c.CustomerId = i.CustomerId\n",
        "    GROUP BY c.CustomerId;\n",
        "\"\"\"\n",
        "\n",
        "# Load data into Pandas DataFrame\n",
        "df = pd.read_sql_query(query, conn)"
      ],
      "metadata": {
        "id": "yTwQxS8oQj-f"
      },
      "execution_count": 44,
      "outputs": []
    },
    {
      "cell_type": "code",
      "source": [
        "df.head()"
      ],
      "metadata": {
        "colab": {
          "base_uri": "https://localhost:8080/",
          "height": 206
        },
        "id": "jHqnCR5DSRNc",
        "outputId": "0e5eb8ce-9d35-4000-b6b4-ef269f3cc276"
      },
      "execution_count": 45,
      "outputs": [
        {
          "output_type": "execute_result",
          "data": {
            "text/plain": [
              "   CustomerId         Country  PurchaseFrequency  AvgOrderValue  TotalSpent\n",
              "0           1          Brazil                  7       5.660000       39.62\n",
              "1           2         Germany                  7       5.374286       37.62\n",
              "2           3          Canada                  7       5.660000       39.62\n",
              "3           4          Norway                  7       5.660000       39.62\n",
              "4           5  Czech Republic                  7       5.802857       40.62"
            ],
            "text/html": [
              "\n",
              "  <div id=\"df-b19dd529-1d70-4bc7-875d-fcdbece27b5b\" class=\"colab-df-container\">\n",
              "    <div>\n",
              "<style scoped>\n",
              "    .dataframe tbody tr th:only-of-type {\n",
              "        vertical-align: middle;\n",
              "    }\n",
              "\n",
              "    .dataframe tbody tr th {\n",
              "        vertical-align: top;\n",
              "    }\n",
              "\n",
              "    .dataframe thead th {\n",
              "        text-align: right;\n",
              "    }\n",
              "</style>\n",
              "<table border=\"1\" class=\"dataframe\">\n",
              "  <thead>\n",
              "    <tr style=\"text-align: right;\">\n",
              "      <th></th>\n",
              "      <th>CustomerId</th>\n",
              "      <th>Country</th>\n",
              "      <th>PurchaseFrequency</th>\n",
              "      <th>AvgOrderValue</th>\n",
              "      <th>TotalSpent</th>\n",
              "    </tr>\n",
              "  </thead>\n",
              "  <tbody>\n",
              "    <tr>\n",
              "      <th>0</th>\n",
              "      <td>1</td>\n",
              "      <td>Brazil</td>\n",
              "      <td>7</td>\n",
              "      <td>5.660000</td>\n",
              "      <td>39.62</td>\n",
              "    </tr>\n",
              "    <tr>\n",
              "      <th>1</th>\n",
              "      <td>2</td>\n",
              "      <td>Germany</td>\n",
              "      <td>7</td>\n",
              "      <td>5.374286</td>\n",
              "      <td>37.62</td>\n",
              "    </tr>\n",
              "    <tr>\n",
              "      <th>2</th>\n",
              "      <td>3</td>\n",
              "      <td>Canada</td>\n",
              "      <td>7</td>\n",
              "      <td>5.660000</td>\n",
              "      <td>39.62</td>\n",
              "    </tr>\n",
              "    <tr>\n",
              "      <th>3</th>\n",
              "      <td>4</td>\n",
              "      <td>Norway</td>\n",
              "      <td>7</td>\n",
              "      <td>5.660000</td>\n",
              "      <td>39.62</td>\n",
              "    </tr>\n",
              "    <tr>\n",
              "      <th>4</th>\n",
              "      <td>5</td>\n",
              "      <td>Czech Republic</td>\n",
              "      <td>7</td>\n",
              "      <td>5.802857</td>\n",
              "      <td>40.62</td>\n",
              "    </tr>\n",
              "  </tbody>\n",
              "</table>\n",
              "</div>\n",
              "    <div class=\"colab-df-buttons\">\n",
              "\n",
              "  <div class=\"colab-df-container\">\n",
              "    <button class=\"colab-df-convert\" onclick=\"convertToInteractive('df-b19dd529-1d70-4bc7-875d-fcdbece27b5b')\"\n",
              "            title=\"Convert this dataframe to an interactive table.\"\n",
              "            style=\"display:none;\">\n",
              "\n",
              "  <svg xmlns=\"http://www.w3.org/2000/svg\" height=\"24px\" viewBox=\"0 -960 960 960\">\n",
              "    <path d=\"M120-120v-720h720v720H120Zm60-500h600v-160H180v160Zm220 220h160v-160H400v160Zm0 220h160v-160H400v160ZM180-400h160v-160H180v160Zm440 0h160v-160H620v160ZM180-180h160v-160H180v160Zm440 0h160v-160H620v160Z\"/>\n",
              "  </svg>\n",
              "    </button>\n",
              "\n",
              "  <style>\n",
              "    .colab-df-container {\n",
              "      display:flex;\n",
              "      gap: 12px;\n",
              "    }\n",
              "\n",
              "    .colab-df-convert {\n",
              "      background-color: #E8F0FE;\n",
              "      border: none;\n",
              "      border-radius: 50%;\n",
              "      cursor: pointer;\n",
              "      display: none;\n",
              "      fill: #1967D2;\n",
              "      height: 32px;\n",
              "      padding: 0 0 0 0;\n",
              "      width: 32px;\n",
              "    }\n",
              "\n",
              "    .colab-df-convert:hover {\n",
              "      background-color: #E2EBFA;\n",
              "      box-shadow: 0px 1px 2px rgba(60, 64, 67, 0.3), 0px 1px 3px 1px rgba(60, 64, 67, 0.15);\n",
              "      fill: #174EA6;\n",
              "    }\n",
              "\n",
              "    .colab-df-buttons div {\n",
              "      margin-bottom: 4px;\n",
              "    }\n",
              "\n",
              "    [theme=dark] .colab-df-convert {\n",
              "      background-color: #3B4455;\n",
              "      fill: #D2E3FC;\n",
              "    }\n",
              "\n",
              "    [theme=dark] .colab-df-convert:hover {\n",
              "      background-color: #434B5C;\n",
              "      box-shadow: 0px 1px 3px 1px rgba(0, 0, 0, 0.15);\n",
              "      filter: drop-shadow(0px 1px 2px rgba(0, 0, 0, 0.3));\n",
              "      fill: #FFFFFF;\n",
              "    }\n",
              "  </style>\n",
              "\n",
              "    <script>\n",
              "      const buttonEl =\n",
              "        document.querySelector('#df-b19dd529-1d70-4bc7-875d-fcdbece27b5b button.colab-df-convert');\n",
              "      buttonEl.style.display =\n",
              "        google.colab.kernel.accessAllowed ? 'block' : 'none';\n",
              "\n",
              "      async function convertToInteractive(key) {\n",
              "        const element = document.querySelector('#df-b19dd529-1d70-4bc7-875d-fcdbece27b5b');\n",
              "        const dataTable =\n",
              "          await google.colab.kernel.invokeFunction('convertToInteractive',\n",
              "                                                    [key], {});\n",
              "        if (!dataTable) return;\n",
              "\n",
              "        const docLinkHtml = 'Like what you see? Visit the ' +\n",
              "          '<a target=\"_blank\" href=https://colab.research.google.com/notebooks/data_table.ipynb>data table notebook</a>'\n",
              "          + ' to learn more about interactive tables.';\n",
              "        element.innerHTML = '';\n",
              "        dataTable['output_type'] = 'display_data';\n",
              "        await google.colab.output.renderOutput(dataTable, element);\n",
              "        const docLink = document.createElement('div');\n",
              "        docLink.innerHTML = docLinkHtml;\n",
              "        element.appendChild(docLink);\n",
              "      }\n",
              "    </script>\n",
              "  </div>\n",
              "\n",
              "\n",
              "<div id=\"df-5210480f-1221-4756-aa19-b260201336d1\">\n",
              "  <button class=\"colab-df-quickchart\" onclick=\"quickchart('df-5210480f-1221-4756-aa19-b260201336d1')\"\n",
              "            title=\"Suggest charts\"\n",
              "            style=\"display:none;\">\n",
              "\n",
              "<svg xmlns=\"http://www.w3.org/2000/svg\" height=\"24px\"viewBox=\"0 0 24 24\"\n",
              "     width=\"24px\">\n",
              "    <g>\n",
              "        <path d=\"M19 3H5c-1.1 0-2 .9-2 2v14c0 1.1.9 2 2 2h14c1.1 0 2-.9 2-2V5c0-1.1-.9-2-2-2zM9 17H7v-7h2v7zm4 0h-2V7h2v10zm4 0h-2v-4h2v4z\"/>\n",
              "    </g>\n",
              "</svg>\n",
              "  </button>\n",
              "\n",
              "<style>\n",
              "  .colab-df-quickchart {\n",
              "      --bg-color: #E8F0FE;\n",
              "      --fill-color: #1967D2;\n",
              "      --hover-bg-color: #E2EBFA;\n",
              "      --hover-fill-color: #174EA6;\n",
              "      --disabled-fill-color: #AAA;\n",
              "      --disabled-bg-color: #DDD;\n",
              "  }\n",
              "\n",
              "  [theme=dark] .colab-df-quickchart {\n",
              "      --bg-color: #3B4455;\n",
              "      --fill-color: #D2E3FC;\n",
              "      --hover-bg-color: #434B5C;\n",
              "      --hover-fill-color: #FFFFFF;\n",
              "      --disabled-bg-color: #3B4455;\n",
              "      --disabled-fill-color: #666;\n",
              "  }\n",
              "\n",
              "  .colab-df-quickchart {\n",
              "    background-color: var(--bg-color);\n",
              "    border: none;\n",
              "    border-radius: 50%;\n",
              "    cursor: pointer;\n",
              "    display: none;\n",
              "    fill: var(--fill-color);\n",
              "    height: 32px;\n",
              "    padding: 0;\n",
              "    width: 32px;\n",
              "  }\n",
              "\n",
              "  .colab-df-quickchart:hover {\n",
              "    background-color: var(--hover-bg-color);\n",
              "    box-shadow: 0 1px 2px rgba(60, 64, 67, 0.3), 0 1px 3px 1px rgba(60, 64, 67, 0.15);\n",
              "    fill: var(--button-hover-fill-color);\n",
              "  }\n",
              "\n",
              "  .colab-df-quickchart-complete:disabled,\n",
              "  .colab-df-quickchart-complete:disabled:hover {\n",
              "    background-color: var(--disabled-bg-color);\n",
              "    fill: var(--disabled-fill-color);\n",
              "    box-shadow: none;\n",
              "  }\n",
              "\n",
              "  .colab-df-spinner {\n",
              "    border: 2px solid var(--fill-color);\n",
              "    border-color: transparent;\n",
              "    border-bottom-color: var(--fill-color);\n",
              "    animation:\n",
              "      spin 1s steps(1) infinite;\n",
              "  }\n",
              "\n",
              "  @keyframes spin {\n",
              "    0% {\n",
              "      border-color: transparent;\n",
              "      border-bottom-color: var(--fill-color);\n",
              "      border-left-color: var(--fill-color);\n",
              "    }\n",
              "    20% {\n",
              "      border-color: transparent;\n",
              "      border-left-color: var(--fill-color);\n",
              "      border-top-color: var(--fill-color);\n",
              "    }\n",
              "    30% {\n",
              "      border-color: transparent;\n",
              "      border-left-color: var(--fill-color);\n",
              "      border-top-color: var(--fill-color);\n",
              "      border-right-color: var(--fill-color);\n",
              "    }\n",
              "    40% {\n",
              "      border-color: transparent;\n",
              "      border-right-color: var(--fill-color);\n",
              "      border-top-color: var(--fill-color);\n",
              "    }\n",
              "    60% {\n",
              "      border-color: transparent;\n",
              "      border-right-color: var(--fill-color);\n",
              "    }\n",
              "    80% {\n",
              "      border-color: transparent;\n",
              "      border-right-color: var(--fill-color);\n",
              "      border-bottom-color: var(--fill-color);\n",
              "    }\n",
              "    90% {\n",
              "      border-color: transparent;\n",
              "      border-bottom-color: var(--fill-color);\n",
              "    }\n",
              "  }\n",
              "</style>\n",
              "\n",
              "  <script>\n",
              "    async function quickchart(key) {\n",
              "      const quickchartButtonEl =\n",
              "        document.querySelector('#' + key + ' button');\n",
              "      quickchartButtonEl.disabled = true;  // To prevent multiple clicks.\n",
              "      quickchartButtonEl.classList.add('colab-df-spinner');\n",
              "      try {\n",
              "        const charts = await google.colab.kernel.invokeFunction(\n",
              "            'suggestCharts', [key], {});\n",
              "      } catch (error) {\n",
              "        console.error('Error during call to suggestCharts:', error);\n",
              "      }\n",
              "      quickchartButtonEl.classList.remove('colab-df-spinner');\n",
              "      quickchartButtonEl.classList.add('colab-df-quickchart-complete');\n",
              "    }\n",
              "    (() => {\n",
              "      let quickchartButtonEl =\n",
              "        document.querySelector('#df-5210480f-1221-4756-aa19-b260201336d1 button');\n",
              "      quickchartButtonEl.style.display =\n",
              "        google.colab.kernel.accessAllowed ? 'block' : 'none';\n",
              "    })();\n",
              "  </script>\n",
              "</div>\n",
              "\n",
              "    </div>\n",
              "  </div>\n"
            ],
            "application/vnd.google.colaboratory.intrinsic+json": {
              "type": "dataframe",
              "variable_name": "df",
              "summary": "{\n  \"name\": \"df\",\n  \"rows\": 59,\n  \"fields\": [\n    {\n      \"column\": \"CustomerId\",\n      \"properties\": {\n        \"dtype\": \"number\",\n        \"std\": 17,\n        \"min\": 1,\n        \"max\": 59,\n        \"num_unique_values\": 59,\n        \"samples\": [\n          1,\n          6,\n          35\n        ],\n        \"semantic_type\": \"\",\n        \"description\": \"\"\n      }\n    },\n    {\n      \"column\": \"Country\",\n      \"properties\": {\n        \"dtype\": \"category\",\n        \"num_unique_values\": 24,\n        \"samples\": [\n          \"USA\",\n          \"Poland\",\n          \"Brazil\"\n        ],\n        \"semantic_type\": \"\",\n        \"description\": \"\"\n      }\n    },\n    {\n      \"column\": \"PurchaseFrequency\",\n      \"properties\": {\n        \"dtype\": \"number\",\n        \"std\": 0,\n        \"min\": 6,\n        \"max\": 7,\n        \"num_unique_values\": 2,\n        \"samples\": [\n          6,\n          7\n        ],\n        \"semantic_type\": \"\",\n        \"description\": \"\"\n      }\n    },\n    {\n      \"column\": \"AvgOrderValue\",\n      \"properties\": {\n        \"dtype\": \"number\",\n        \"std\": 0.4167651773479641,\n        \"min\": 5.374285714285714,\n        \"max\": 7.088571428571429,\n        \"num_unique_values\": 16,\n        \"samples\": [\n          5.659999999999999,\n          5.3742857142857146\n        ],\n        \"semantic_type\": \"\",\n        \"description\": \"\"\n      }\n    },\n    {\n      \"column\": \"TotalSpent\",\n      \"properties\": {\n        \"dtype\": \"number\",\n        \"std\": 2.9110775749839637,\n        \"min\": 36.64,\n        \"max\": 49.620000000000005,\n        \"num_unique_values\": 16,\n        \"samples\": [\n          39.62,\n          37.620000000000005\n        ],\n        \"semantic_type\": \"\",\n        \"description\": \"\"\n      }\n    }\n  ]\n}"
            }
          },
          "metadata": {},
          "execution_count": 45
        }
      ]
    },
    {
      "cell_type": "code",
      "source": [
        "df.info()"
      ],
      "metadata": {
        "colab": {
          "base_uri": "https://localhost:8080/"
        },
        "id": "Pu88YpZzRQYD",
        "outputId": "3091269e-8efc-4993-9abe-db967dd96a85"
      },
      "execution_count": 46,
      "outputs": [
        {
          "output_type": "stream",
          "name": "stdout",
          "text": [
            "<class 'pandas.core.frame.DataFrame'>\n",
            "RangeIndex: 59 entries, 0 to 58\n",
            "Data columns (total 5 columns):\n",
            " #   Column             Non-Null Count  Dtype  \n",
            "---  ------             --------------  -----  \n",
            " 0   CustomerId         59 non-null     int64  \n",
            " 1   Country            59 non-null     object \n",
            " 2   PurchaseFrequency  59 non-null     int64  \n",
            " 3   AvgOrderValue      59 non-null     float64\n",
            " 4   TotalSpent         59 non-null     float64\n",
            "dtypes: float64(2), int64(2), object(1)\n",
            "memory usage: 2.4+ KB\n"
          ]
        }
      ]
    },
    {
      "cell_type": "code",
      "source": [
        "df['Country'].value_counts()"
      ],
      "metadata": {
        "colab": {
          "base_uri": "https://localhost:8080/",
          "height": 868
        },
        "id": "IIMvL3NYSzjb",
        "outputId": "e6f68d9a-8477-4081-959a-9cdaef63280b"
      },
      "execution_count": 47,
      "outputs": [
        {
          "output_type": "execute_result",
          "data": {
            "text/plain": [
              "Country\n",
              "USA               13\n",
              "Canada             8\n",
              "France             5\n",
              "Brazil             5\n",
              "Germany            4\n",
              "United Kingdom     3\n",
              "Portugal           2\n",
              "Czech Republic     2\n",
              "India              2\n",
              "Belgium            1\n",
              "Austria            1\n",
              "Norway             1\n",
              "Denmark            1\n",
              "Ireland            1\n",
              "Hungary            1\n",
              "Finland            1\n",
              "Netherlands        1\n",
              "Italy              1\n",
              "Spain              1\n",
              "Poland             1\n",
              "Sweden             1\n",
              "Australia          1\n",
              "Argentina          1\n",
              "Chile              1\n",
              "Name: count, dtype: int64"
            ],
            "text/html": [
              "<div>\n",
              "<style scoped>\n",
              "    .dataframe tbody tr th:only-of-type {\n",
              "        vertical-align: middle;\n",
              "    }\n",
              "\n",
              "    .dataframe tbody tr th {\n",
              "        vertical-align: top;\n",
              "    }\n",
              "\n",
              "    .dataframe thead th {\n",
              "        text-align: right;\n",
              "    }\n",
              "</style>\n",
              "<table border=\"1\" class=\"dataframe\">\n",
              "  <thead>\n",
              "    <tr style=\"text-align: right;\">\n",
              "      <th></th>\n",
              "      <th>count</th>\n",
              "    </tr>\n",
              "    <tr>\n",
              "      <th>Country</th>\n",
              "      <th></th>\n",
              "    </tr>\n",
              "  </thead>\n",
              "  <tbody>\n",
              "    <tr>\n",
              "      <th>USA</th>\n",
              "      <td>13</td>\n",
              "    </tr>\n",
              "    <tr>\n",
              "      <th>Canada</th>\n",
              "      <td>8</td>\n",
              "    </tr>\n",
              "    <tr>\n",
              "      <th>France</th>\n",
              "      <td>5</td>\n",
              "    </tr>\n",
              "    <tr>\n",
              "      <th>Brazil</th>\n",
              "      <td>5</td>\n",
              "    </tr>\n",
              "    <tr>\n",
              "      <th>Germany</th>\n",
              "      <td>4</td>\n",
              "    </tr>\n",
              "    <tr>\n",
              "      <th>United Kingdom</th>\n",
              "      <td>3</td>\n",
              "    </tr>\n",
              "    <tr>\n",
              "      <th>Portugal</th>\n",
              "      <td>2</td>\n",
              "    </tr>\n",
              "    <tr>\n",
              "      <th>Czech Republic</th>\n",
              "      <td>2</td>\n",
              "    </tr>\n",
              "    <tr>\n",
              "      <th>India</th>\n",
              "      <td>2</td>\n",
              "    </tr>\n",
              "    <tr>\n",
              "      <th>Belgium</th>\n",
              "      <td>1</td>\n",
              "    </tr>\n",
              "    <tr>\n",
              "      <th>Austria</th>\n",
              "      <td>1</td>\n",
              "    </tr>\n",
              "    <tr>\n",
              "      <th>Norway</th>\n",
              "      <td>1</td>\n",
              "    </tr>\n",
              "    <tr>\n",
              "      <th>Denmark</th>\n",
              "      <td>1</td>\n",
              "    </tr>\n",
              "    <tr>\n",
              "      <th>Ireland</th>\n",
              "      <td>1</td>\n",
              "    </tr>\n",
              "    <tr>\n",
              "      <th>Hungary</th>\n",
              "      <td>1</td>\n",
              "    </tr>\n",
              "    <tr>\n",
              "      <th>Finland</th>\n",
              "      <td>1</td>\n",
              "    </tr>\n",
              "    <tr>\n",
              "      <th>Netherlands</th>\n",
              "      <td>1</td>\n",
              "    </tr>\n",
              "    <tr>\n",
              "      <th>Italy</th>\n",
              "      <td>1</td>\n",
              "    </tr>\n",
              "    <tr>\n",
              "      <th>Spain</th>\n",
              "      <td>1</td>\n",
              "    </tr>\n",
              "    <tr>\n",
              "      <th>Poland</th>\n",
              "      <td>1</td>\n",
              "    </tr>\n",
              "    <tr>\n",
              "      <th>Sweden</th>\n",
              "      <td>1</td>\n",
              "    </tr>\n",
              "    <tr>\n",
              "      <th>Australia</th>\n",
              "      <td>1</td>\n",
              "    </tr>\n",
              "    <tr>\n",
              "      <th>Argentina</th>\n",
              "      <td>1</td>\n",
              "    </tr>\n",
              "    <tr>\n",
              "      <th>Chile</th>\n",
              "      <td>1</td>\n",
              "    </tr>\n",
              "  </tbody>\n",
              "</table>\n",
              "</div><br><label><b>dtype:</b> int64</label>"
            ]
          },
          "metadata": {},
          "execution_count": 47
        }
      ]
    },
    {
      "cell_type": "code",
      "source": [
        "# Applying One-Hot Encoding using get_dummies\n",
        "df_encoded = pd.get_dummies(df, columns=['Country'], drop_first=True)"
      ],
      "metadata": {
        "id": "GIEaGIkzVjmZ"
      },
      "execution_count": 48,
      "outputs": []
    },
    {
      "cell_type": "code",
      "source": [
        "df_encoded.info()"
      ],
      "metadata": {
        "colab": {
          "base_uri": "https://localhost:8080/"
        },
        "id": "ncnsGAkeVwVZ",
        "outputId": "2968fe25-d046-42f6-af40-a9da98dfe179"
      },
      "execution_count": 49,
      "outputs": [
        {
          "output_type": "stream",
          "name": "stdout",
          "text": [
            "<class 'pandas.core.frame.DataFrame'>\n",
            "RangeIndex: 59 entries, 0 to 58\n",
            "Data columns (total 27 columns):\n",
            " #   Column                  Non-Null Count  Dtype  \n",
            "---  ------                  --------------  -----  \n",
            " 0   CustomerId              59 non-null     int64  \n",
            " 1   PurchaseFrequency       59 non-null     int64  \n",
            " 2   AvgOrderValue           59 non-null     float64\n",
            " 3   TotalSpent              59 non-null     float64\n",
            " 4   Country_Australia       59 non-null     bool   \n",
            " 5   Country_Austria         59 non-null     bool   \n",
            " 6   Country_Belgium         59 non-null     bool   \n",
            " 7   Country_Brazil          59 non-null     bool   \n",
            " 8   Country_Canada          59 non-null     bool   \n",
            " 9   Country_Chile           59 non-null     bool   \n",
            " 10  Country_Czech Republic  59 non-null     bool   \n",
            " 11  Country_Denmark         59 non-null     bool   \n",
            " 12  Country_Finland         59 non-null     bool   \n",
            " 13  Country_France          59 non-null     bool   \n",
            " 14  Country_Germany         59 non-null     bool   \n",
            " 15  Country_Hungary         59 non-null     bool   \n",
            " 16  Country_India           59 non-null     bool   \n",
            " 17  Country_Ireland         59 non-null     bool   \n",
            " 18  Country_Italy           59 non-null     bool   \n",
            " 19  Country_Netherlands     59 non-null     bool   \n",
            " 20  Country_Norway          59 non-null     bool   \n",
            " 21  Country_Poland          59 non-null     bool   \n",
            " 22  Country_Portugal        59 non-null     bool   \n",
            " 23  Country_Spain           59 non-null     bool   \n",
            " 24  Country_Sweden          59 non-null     bool   \n",
            " 25  Country_USA             59 non-null     bool   \n",
            " 26  Country_United Kingdom  59 non-null     bool   \n",
            "dtypes: bool(23), float64(2), int64(2)\n",
            "memory usage: 3.3 KB\n"
          ]
        }
      ]
    },
    {
      "cell_type": "code",
      "source": [
        "# Define features (X) and target variable (y)\n",
        "X = df_encoded.drop(columns=['TotalSpent'])\n",
        "y = df_encoded['TotalSpent']\n",
        "\n",
        "# Scale numerical features\n",
        "scaler = StandardScaler()\n",
        "scaler.fit_transform(X)"
      ],
      "metadata": {
        "id": "CdMgx99xRE3y",
        "colab": {
          "base_uri": "https://localhost:8080/"
        },
        "outputId": "8e480e94-31fb-43fc-c632-8fc0f4a01b3b"
      },
      "execution_count": 50,
      "outputs": [
        {
          "output_type": "execute_result",
          "data": {
            "text/plain": [
              "array([[-1.70293864,  0.13130643,  0.01683668, ..., -0.13130643,\n",
              "        -0.53160953, -0.23145502],\n",
              "       [-1.64421661,  0.13130643, -0.6746002 , ..., -0.13130643,\n",
              "        -0.53160953, -0.23145502],\n",
              "       [-1.58549459,  0.13130643,  0.01683668, ..., -0.13130643,\n",
              "        -0.53160953, -0.23145502],\n",
              "       ...,\n",
              "       [ 1.58549459,  0.13130643,  2.43686576, ..., -0.13130643,\n",
              "        -0.53160953, -0.23145502],\n",
              "       [ 1.64421661,  0.13130643, -0.32888176, ..., -0.13130643,\n",
              "        -0.53160953, -0.23145502],\n",
              "       [ 1.70293864, -7.61577311,  1.09778301, ..., -0.13130643,\n",
              "        -0.53160953, -0.23145502]])"
            ]
          },
          "metadata": {},
          "execution_count": 50
        }
      ]
    },
    {
      "cell_type": "code",
      "source": [
        "X_scaled = pd.DataFrame(scaler.fit_transform(X), columns=X.columns)"
      ],
      "metadata": {
        "id": "ffK85ZrTUzrL"
      },
      "execution_count": 51,
      "outputs": []
    },
    {
      "cell_type": "code",
      "source": [
        "# Split data into training and testing sets (80% train, 20% test)\n",
        "X_train, X_test, y_train, y_test = train_test_split(X_scaled, y, test_size=0.2, random_state=42)\n",
        "\n",
        "# Train Linear Regression model\n",
        "model = LinearRegression()\n",
        "model.fit(X_train, y_train)\n",
        "\n",
        "# Predict on test data\n",
        "y_pred = model.predict(X_test)\n",
        "\n",
        "# Evaluate the model\n",
        "mae = mean_absolute_error(y_test, y_pred)\n",
        "rmse = np.sqrt(mean_squared_error(y_test, y_pred))\n",
        "\n",
        "# Print results\n",
        "print(f\"Mean Absolute Error (MAE): {mae:.4f}\")\n",
        "print(f\"Root Mean Squared Error (RMSE): {rmse:.4f}\")\n"
      ],
      "metadata": {
        "colab": {
          "base_uri": "https://localhost:8080/"
        },
        "id": "mm66KdZcVOAS",
        "outputId": "29389890-aace-43a0-dd8a-f88ad5a47111"
      },
      "execution_count": 52,
      "outputs": [
        {
          "output_type": "stream",
          "name": "stdout",
          "text": [
            "Mean Absolute Error (MAE): 0.1716\n",
            "Root Mean Squared Error (RMSE): 0.5944\n"
          ]
        }
      ]
    },
    {
      "cell_type": "markdown",
      "source": [
        "Lower MAE and RMSE indicate better model perfomance"
      ],
      "metadata": {
        "id": "uBVyjmYlczy4"
      }
    }
  ]
}